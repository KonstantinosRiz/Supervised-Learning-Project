{
  "nbformat": 4,
  "nbformat_minor": 0,
  "metadata": {
    "colab": {
      "name": "Supervised Learnig.ipynb",
      "provenance": [],
      "collapsed_sections": []
    },
    "kernelspec": {
      "name": "python3",
      "display_name": "Python 3"
    },
    "language_info": {
      "name": "python"
    }
  },
  "cells": [
    {
      "cell_type": "markdown",
      "metadata": {
        "id": "boxwS0COtlzl"
      },
      "source": [
        "## Dataset overview"
      ]
    },
    {
      "cell_type": "code",
      "metadata": {
        "id": "oryOsl-2k04r"
      },
      "source": [
        "# !pip install --upgrade pip #upgrade pip package installer\n",
        "# !pip install scikit-learn --upgrade #upgrade scikit-learn package\n",
        "# !pip install numpy --upgrade #upgrade numpy package\n",
        "# !pip install --upgrade matplotlib # Κάνουμε update την matplotlib"
      ],
      "execution_count": null,
      "outputs": []
    },
    {
      "cell_type": "code",
      "metadata": {
        "id": "2IJzNhGbO9bB"
      },
      "source": [
        "import numpy as np\n",
        "import csv\n",
        "import pandas as pd\n",
        "from sklearn.impute import SimpleImputer\n",
        "from sklearn.model_selection import train_test_split\n",
        "\n",
        "import sys\n",
        "np.set_printoptions(threshold=sys.maxsize)\n",
        "\n",
        "# Import the data in a numpy array\n",
        "# Set mising values symbolized with '?' and 'name' as 'nan'.\n",
        "data = pd.read_csv('echocardiogram.data', na_values=['?', 'name'], header=None).to_numpy()"
      ],
      "execution_count": null,
      "outputs": []
    },
    {
      "cell_type": "markdown",
      "metadata": {
        "id": "swCcQl7M3scS"
      },
      "source": [
        "* We check for missing values"
      ]
    },
    {
      "cell_type": "code",
      "metadata": {
        "colab": {
          "base_uri": "https://localhost:8080/"
        },
        "id": "5u8lmsw8vBeR",
        "outputId": "aa9227a2-8cfb-484d-88e2-9b45bc4418ea"
      },
      "source": [
        "print(\"Random row from data table:\", data[49])\n",
        "\n",
        "# def calculate_rows_with_missing_values(data):\n",
        "#   samples = data.shape[0]\n",
        "#   samples_with_missing_values = 0\n",
        "#   for i in range(samples):\n",
        "#     if np.isnan(np.sum(data[i])):\n",
        "#       samples_with_missing_values += 1\n",
        "#   return samples_with_missing_values\n",
        "\n",
        "# Count the samples with missing values as features or label\n",
        "samples = data.shape[0]\n",
        "samples_with_missing_values = 0\n",
        "for i in range(samples):\n",
        "  if np.isnan(data[i,12]):\n",
        "    samples_with_missing_values += 1\n",
        "    continue  \n",
        "  for j in range(10):\n",
        "    if np.isnan(data[i,j]):\n",
        "      samples_with_missing_values += 1\n",
        "      break\n",
        "    \n",
        "print('The number of samples with missing values is:', samples_with_missing_values)\n",
        "missing_percentage = (samples_with_missing_values/samples) * 100 \n",
        "print('The percentage of samples with missing values is: {:.2f} %'.format(missing_percentage))"
      ],
      "execution_count": null,
      "outputs": [
        {
          "output_type": "stream",
          "name": "stdout",
          "text": [
            "Random row from data table: [nan nan 77. nan nan nan nan nan  2. nan nan  2. nan]\n",
            "The number of samples with missing values is: 71\n",
            "The percentage of samples with missing values is: 53.79 %\n"
          ]
        }
      ]
    },
    {
      "cell_type": "markdown",
      "metadata": {
        "id": "lNj2_oIXveVD"
      },
      "source": [
        "*Check if our dataset is balenced"
      ]
    },
    {
      "cell_type": "code",
      "metadata": {
        "colab": {
          "base_uri": "https://localhost:8080/"
        },
        "id": "VZL-VfqiwKIZ",
        "outputId": "d9169591-5149-4a03-ab7b-af2dee356a0e"
      },
      "source": [
        "count0 = 0\n",
        "count1 = 0\n",
        "for i in range(samples):\n",
        "  if data[i, 12] == 0:\n",
        "    count0 += 1\n",
        "  elif data[i, 12] == 1:\n",
        "    count1 += 1\n",
        "\n",
        "useful_samples = count0 + count1\n",
        "print('The percentage of the 0-classification is: {:.2f} %'.format((count0 / useful_samples) * 100))\n",
        "print('The percentage of the 1-classification is: {:.2f} %'.format((count1 / useful_samples) * 100))"
      ],
      "execution_count": null,
      "outputs": [
        {
          "output_type": "stream",
          "name": "stdout",
          "text": [
            "The percentage of the 0-classification is: 67.57 %\n",
            "The percentage of the 1-classification is: 32.43 %\n"
          ]
        }
      ]
    },
    {
      "cell_type": "markdown",
      "metadata": {
        "id": "0Y0K9H5ty1fy"
      },
      "source": [
        "## Preprocesing"
      ]
    },
    {
      "cell_type": "markdown",
      "metadata": {
        "id": "E3VvjjcHzBdb"
      },
      "source": [
        "First of all we seperate usefull information features and our labels so as to be compatible with sklearn"
      ]
    },
    {
      "cell_type": "code",
      "metadata": {
        "id": "TfhN2JjGtWCe"
      },
      "source": [
        "# Keep only the rows with a known output label, discard the rest\n",
        "filtered_data = data[ ~np.isnan(data[:, 12]) ]\n",
        "\n",
        "# Separate the important features and the labels\n",
        "features = filtered_data[:, 2:9]\n",
        "labels = filtered_data[:, 12]\n",
        "\n",
        "# Split the data in training and test\n",
        "train, test, train_labels, test_labels = train_test_split(features, labels, test_size=0.3)\n",
        "\n",
        "# Fill in the missing value of the continuous-valued features with the feature's mean value\n",
        "imputer = SimpleImputer(missing_values=np.nan, strategy='mean')\n",
        "train = imputer.fit_transform(train)\n",
        "test = imputer.transform(test)"
      ],
      "execution_count": null,
      "outputs": []
    },
    {
      "cell_type": "markdown",
      "metadata": {
        "id": "6oOlq1pIrEN7"
      },
      "source": [
        " * Processing the data we can deduce that there is some inconsisteny betwwen 1,2 and 13 colums of our dataset. Due to continue our tests we ignore 1,2 colums and we continue with fewer data."
      ]
    },
    {
      "cell_type": "code",
      "metadata": {
        "colab": {
          "base_uri": "https://localhost:8080/"
        },
        "id": "m0uB6Blg7fQs",
        "outputId": "5ff88abd-859c-4cd8-cd4d-f7c56359aa4f"
      },
      "source": [
        "print('Example of data inconsistency:')\n",
        "print(data[4])"
      ],
      "execution_count": null,
      "outputs": [
        {
          "output_type": "stream",
          "name": "stdout",
          "text": [
            "Example of data inconsistency:\n",
            "[19.     1.    57.     0.     0.16  22.     5.75  18.     2.25   0.571\n",
            "    nan  1.     0.   ]\n"
          ]
        }
      ]
    },
    {
      "cell_type": "markdown",
      "metadata": {
        "id": "eazf0mcx-GZt"
      },
      "source": [
        "## Classification"
      ]
    },
    {
      "cell_type": "markdown",
      "metadata": {
        "id": "FJFyzDdE0dzt"
      },
      "source": [
        "### Out-of-the-box Classifiers"
      ]
    },
    {
      "cell_type": "code",
      "metadata": {
        "id": "mopxt7dUh3fD"
      },
      "source": [
        "# Save the results here\n",
        "out_of_the_box_results = np.empty(shape=(4, 2))"
      ],
      "execution_count": null,
      "outputs": []
    },
    {
      "cell_type": "markdown",
      "metadata": {
        "id": "PIUBXR4k0sgp"
      },
      "source": [
        "#### Dummy"
      ]
    },
    {
      "cell_type": "code",
      "metadata": {
        "id": "lFpAAEuSTvwY",
        "colab": {
          "base_uri": "https://localhost:8080/"
        },
        "outputId": "9018e6b6-0a38-40b9-eb2a-4b37497b1c05"
      },
      "source": [
        "from sklearn.dummy import DummyClassifier\n",
        "from sklearn.metrics import accuracy_score, f1_score\n",
        "\n",
        "# Ignore warnings\n",
        "import warnings \n",
        "warnings.filterwarnings('ignore')\n",
        "\n",
        "clf = DummyClassifier()\n",
        "clf.fit(train, train_labels)\n",
        "preds = clf.predict(test)\n",
        "\n",
        "acc = accuracy_score(test_labels, preds) * 100\n",
        "f1 = f1_score(test_labels, preds) * 100\n",
        "\n",
        "out_of_the_box_results[0] = [acc, f1]\n",
        "\n",
        "print('Out-of-the-box dummy classifier')\n",
        "print('Accuracy: {:.2f} %'.format(acc))\n",
        "print('F1-score: {:.2f} %'.format(f1))"
      ],
      "execution_count": null,
      "outputs": [
        {
          "output_type": "stream",
          "name": "stdout",
          "text": [
            "Out-of-the-box dummy classifier\n",
            "Accuracy: 78.26 %\n",
            "F1-score: 0.00 %\n"
          ]
        }
      ]
    },
    {
      "cell_type": "markdown",
      "metadata": {
        "id": "HQyXiP7900Yq"
      },
      "source": [
        "#### Gaussian Naive Bayes (GNB)"
      ]
    },
    {
      "cell_type": "code",
      "metadata": {
        "id": "XvP1YpuO1flD",
        "colab": {
          "base_uri": "https://localhost:8080/"
        },
        "outputId": "b92426bc-a77e-4e57-8c7b-ed823da75f68"
      },
      "source": [
        "from sklearn.naive_bayes import GaussianNB\n",
        "\n",
        "clf = GaussianNB()\n",
        "clf.fit(train, train_labels)\n",
        "preds = clf.predict(test)\n",
        "\n",
        "acc = accuracy_score(test_labels, preds) * 100\n",
        "f1 = f1_score(test_labels, preds) * 100\n",
        "\n",
        "out_of_the_box_results[1] = [acc, f1]\n",
        "\n",
        "print('Out-of-the-box Gaussian Naive Bayes classifier')\n",
        "print('Accuracy: {:.2f} %'.format(acc))\n",
        "print('F1-score: {:.2f} %'.format(f1))"
      ],
      "execution_count": null,
      "outputs": [
        {
          "output_type": "stream",
          "name": "stdout",
          "text": [
            "Out-of-the-box Gaussian Naive Bayes classifier\n",
            "Accuracy: 78.26 %\n",
            "F1-score: 61.54 %\n"
          ]
        }
      ]
    },
    {
      "cell_type": "markdown",
      "metadata": {
        "id": "S5d7gBPq1jg6"
      },
      "source": [
        "#### KNeirestNeighbors (kNN)"
      ]
    },
    {
      "cell_type": "code",
      "metadata": {
        "id": "R9O-mqOw1mqy",
        "colab": {
          "base_uri": "https://localhost:8080/"
        },
        "outputId": "2ef586ef-01ba-447f-bc2c-5244591f61cf"
      },
      "source": [
        "from sklearn.neighbors import KNeighborsClassifier\n",
        "\n",
        "clf = KNeighborsClassifier()\n",
        "clf.fit(train, train_labels)\n",
        "preds = clf.predict(test)\n",
        "\n",
        "acc = accuracy_score(test_labels, preds) * 100\n",
        "f1 = f1_score(test_labels, preds) * 100\n",
        "\n",
        "out_of_the_box_results[2] = [acc, f1]\n",
        "\n",
        "print('Out-of-the-box knn classifier')\n",
        "print('Accuracy: {:.2f} %'.format(acc))\n",
        "print('F1-score: {:.2f} %'.format(f1))"
      ],
      "execution_count": null,
      "outputs": [
        {
          "output_type": "stream",
          "name": "stdout",
          "text": [
            "Out-of-the-box knn classifier\n",
            "Accuracy: 82.61 %\n",
            "F1-score: 66.67 %\n"
          ]
        }
      ]
    },
    {
      "cell_type": "markdown",
      "metadata": {
        "id": "E-TL6tT01o_g"
      },
      "source": [
        "#### Logistic Regression"
      ]
    },
    {
      "cell_type": "code",
      "metadata": {
        "id": "Udd_f7C41t56",
        "colab": {
          "base_uri": "https://localhost:8080/"
        },
        "outputId": "ddf79658-f9b4-4ee5-d147-865f9af486a0"
      },
      "source": [
        "from sklearn.linear_model import LogisticRegression\n",
        "\n",
        "clf = LogisticRegression()\n",
        "clf.fit(train, train_labels)\n",
        "preds = clf.predict(test)\n",
        "\n",
        "acc = accuracy_score(test_labels, preds) * 100\n",
        "f1 = f1_score(test_labels, preds) * 100\n",
        "\n",
        "out_of_the_box_results[3] = [acc, f1]\n",
        "\n",
        "print('Out-of-the-box Logistic Regression classifier')\n",
        "print('Accuracy: {:.2f} %'.format(acc))\n",
        "print('F1-score: {:.2f} %'.format(f1))"
      ],
      "execution_count": null,
      "outputs": [
        {
          "output_type": "stream",
          "name": "stdout",
          "text": [
            "Out-of-the-box Logistic Regression classifier\n",
            "Accuracy: 78.26 %\n",
            "F1-score: 61.54 %\n"
          ]
        }
      ]
    },
    {
      "cell_type": "markdown",
      "metadata": {
        "id": "gRf0-Bi9nxE3"
      },
      "source": [
        "#### Συνοπτικά αποτελέσματα"
      ]
    },
    {
      "cell_type": "code",
      "metadata": {
        "colab": {
          "base_uri": "https://localhost:8080/"
        },
        "id": "4TeBVKcQkQE3",
        "outputId": "1ebdc563-03e3-47c7-8bdd-df4c59b0d040"
      },
      "source": [
        "out_of_the_box_df = pd.DataFrame(out_of_the_box_results,\n",
        "                                 ['Dummy', 'Gaussian Naive Bayes', 'K Nearest Neighbors', 'Logistic Regression'],\n",
        "                                 ['Accuracy', 'F1-score'])\n",
        "out_of_the_box_df"
      ],
      "execution_count": null,
      "outputs": [
        {
          "output_type": "execute_result",
          "data": {
            "text/html": [
              "<div>\n",
              "<style scoped>\n",
              "    .dataframe tbody tr th:only-of-type {\n",
              "        vertical-align: middle;\n",
              "    }\n",
              "\n",
              "    .dataframe tbody tr th {\n",
              "        vertical-align: top;\n",
              "    }\n",
              "\n",
              "    .dataframe thead th {\n",
              "        text-align: right;\n",
              "    }\n",
              "</style>\n",
              "<table border=\"1\" class=\"dataframe\">\n",
              "  <thead>\n",
              "    <tr style=\"text-align: right;\">\n",
              "      <th></th>\n",
              "      <th>Accuracy</th>\n",
              "      <th>F1-score</th>\n",
              "    </tr>\n",
              "  </thead>\n",
              "  <tbody>\n",
              "    <tr>\n",
              "      <th>Dummy</th>\n",
              "      <td>78.260870</td>\n",
              "      <td>0.000000</td>\n",
              "    </tr>\n",
              "    <tr>\n",
              "      <th>Gaussian Naive Bayes</th>\n",
              "      <td>78.260870</td>\n",
              "      <td>61.538462</td>\n",
              "    </tr>\n",
              "    <tr>\n",
              "      <th>K Nearest Neighbors</th>\n",
              "      <td>82.608696</td>\n",
              "      <td>66.666667</td>\n",
              "    </tr>\n",
              "    <tr>\n",
              "      <th>Logistic Regression</th>\n",
              "      <td>78.260870</td>\n",
              "      <td>61.538462</td>\n",
              "    </tr>\n",
              "  </tbody>\n",
              "</table>\n",
              "</div>"
            ],
            "text/plain": [
              "                       Accuracy   F1-score\n",
              "Dummy                 78.260870   0.000000\n",
              "Gaussian Naive Bayes  78.260870  61.538462\n",
              "K Nearest Neighbors   82.608696  66.666667\n",
              "Logistic Regression   78.260870  61.538462"
            ]
          },
          "metadata": {},
          "execution_count": 43
        }
      ]
    },
    {
      "cell_type": "code",
      "metadata": {
        "colab": {
          "base_uri": "https://localhost:8080/"
        },
        "id": "o7MhIlhVlYnW",
        "outputId": "a0213768-4a6f-42dc-f734-a0d529c1eb67"
      },
      "source": [
        "import matplotlib.pyplot as plt\n",
        "\n",
        "x = ['Dummy', 'GNB', 'kNN', 'LR']\n",
        "x_axis = np.arange(len(x))\n",
        "plt.figure(figsize=(10, 5))\n",
        "plt.bar(x_axis-0.1, out_of_the_box_results[:, 0], 0.2, label='Accuracy')\n",
        "plt.bar(x_axis+0.1, out_of_the_box_results[:, 1], 0.2, label='F1-score')\n",
        "\n",
        "plt.xticks(x_axis, x)\n",
        "plt.xlabel('Classifiers')\n",
        "plt.ylabel('Accuracy')\n",
        "plt.title('Out-of-the-box metrics')\n",
        "plt.legend()\n",
        "plt.show()"
      ],
      "execution_count": null,
      "outputs": [
        {
          "output_type": "display_data",
          "data": {
            "image/png": "[encoded data removed]",
            "text/plain": [
              "<Figure size 720x360 with 1 Axes>"
            ]
          },
          "metadata": {
            "needs_background": "light"
          }
        }
      ]
    },
    {
      "cell_type": "markdown",
      "metadata": {
        "id": "p8BZTbP1t4Ra"
      },
      "source": [
        "The best estimator is Gaussian Naive Bayes. "
      ]
    },
    {
      "cell_type": "markdown",
      "metadata": {
        "id": "ItM60oAKojMP"
      },
      "source": [
        "### Optimaization"
      ]
    },
    {
      "cell_type": "markdown",
      "metadata": {
        "id": "6i319WhP2Seh"
      },
      "source": [
        "We use cross validation to check every hyperparameter for our model so as to find the best ones. This way we can achive better accuracy and f1 score."
      ]
    },
    {
      "cell_type": "code",
      "metadata": {
        "colab": {
          "base_uri": "https://localhost:8080/"
        },
        "id": "BggPiVOiovgJ",
        "outputId": "d85744fa-3559-4136-cc96-ae18e9a51b37"
      },
      "source": [
        "from imblearn.pipeline import Pipeline\n",
        "from sklearn.feature_selection import VarianceThreshold\n",
        "from sklearn.preprocessing import StandardScaler, MinMaxScaler\n",
        "from imblearn.over_sampling import RandomOverSampler\n",
        "from sklearn.decomposition import PCA\n",
        "from sklearn.model_selection import GridSearchCV\n",
        "\n",
        "selector = VarianceThreshold()\n",
        "scaler1 = StandardScaler()\n",
        "scaler2 = MinMaxScaler()\n",
        "ros = RandomOverSampler()\n",
        "pca = PCA()\n",
        "\n",
        "# These are the pipeline architectures I want to test out and optimize\n",
        "# Afterwards, I will find the best of all of the optimized ones\n",
        "steps = [\n",
        "         [],\n",
        "         [('selector', selector), ('std_scaler', scaler1), ('sampler', ros), ('pca', pca)],\n",
        "         [('selector', selector), ('minmax_scaler', scaler2), ('sampler', ros), ('pca', pca)],\n",
        "         [('selector', selector), ('sampler', ros), ('pca', pca)],\n",
        "         [('selector', selector), ('pca', pca)],\n",
        "         [('selector', selector)],\n",
        "         [('selector', selector), ('sampler', ros)],\n",
        "         [('selector', selector), ('std_scaler', scaler1)],\n",
        "         [('selector', selector), ('minmax_scaler', scaler2)],\n",
        "         [('selector', selector), ('std_scaler', scaler1), ('sampler', ros)],\n",
        "         [('selector', selector), ('std_scaler', scaler1), ('pca', pca)],\n",
        "         [('selector', selector), ('minmax_scaler', scaler2), ('sampler', ros)],\n",
        "         [('selector', selector), ('minmax_scaler', scaler2), ('pca', pca)],\n",
        "         [('scaler', scaler1), ('sampler', ros), ('pca', pca)],\n",
        "         [('scaler', scaler2), ('sampler', ros), ('pca', pca)],\n",
        "         [('sampler', ros), ('pca', pca)],\n",
        "         [('pca', pca)],\n",
        "         [('sampler', ros)],\n",
        "         [('std_scaler', scaler1)],\n",
        "         [('minmax_scaler', scaler2)],\n",
        "         [('std_scaler', scaler1), ('sampler', ros)],\n",
        "         [('std_scaler', scaler1), ('pca', pca)],\n",
        "         [('minmax_scaler', scaler2), ('sampler', ros)],\n",
        "         [('minmax_scaler', scaler2), ('pca', pca)]\n",
        "        ]\n",
        "\n",
        "# Check the variance of our training data to find reasonable values for our selector\n",
        "train_variance = train.var(axis=0)\n",
        "print(train_variance)\n",
        "\n",
        "# Creating the grid of values that i will use to optimize the above architectures\n",
        "vthreshold = [0, 5, 50]\n",
        "n_components = [2, 4, 6]\n",
        "tf = [True, False]\n",
        "\n",
        "# My metrics to be used\n",
        "metrics = ['accuracy', 'f1']"
      ],
      "execution_count": null,
      "outputs": [
        {
          "output_type": "stream",
          "name": "stdout",
          "text": [
            "[6.79204315e+01 1.69165705e-01 1.37538462e-02 4.76639817e+01\n",
            " 6.39964884e-01 3.19090642e+01 1.97260392e-01]\n"
          ]
        }
      ]
    },
    {
      "cell_type": "code",
      "metadata": {
        "id": "wStBvYg0wajZ"
      },
      "source": [
        "myBestEstimators = []"
      ],
      "execution_count": null,
      "outputs": []
    },
    {
      "cell_type": "markdown",
      "metadata": {
        "id": "xXyYyfAwrYTT"
      },
      "source": [
        "#### Dummy"
      ]
    },
    {
      "cell_type": "code",
      "metadata": {
        "colab": {
          "base_uri": "https://localhost:8080/"
        },
        "id": "QtvjSYaurtUk",
        "outputId": "71e242f7-f015-44d3-9d4b-50b47f50f184"
      },
      "source": [
        "clf = DummyClassifier()\n",
        "\n",
        "for method in metrics:\n",
        "  scores = []\n",
        "  estimators = []\n",
        "\n",
        "  for i in range(len(steps)):\n",
        "    # Construct the pipe with the specific architecture for this classifier\n",
        "    mySteps = steps[i][:]\n",
        "    mySteps.append(('dummy', clf))\n",
        "    pipe = Pipeline(steps=mySteps, memory='tmp')\n",
        "\n",
        "    # Construct a temporary dictionary with only the values needed for this pipe\n",
        "    myDictionary = {'dummy__strategy': ['stratified', 'most_frequent', 'prior', 'uniform', 'constant']}\n",
        "    for element in mySteps:\n",
        "      name = element[0]\n",
        "      if name == 'selector':\n",
        "        myDictionary['selector__threshold'] = vthreshold\n",
        "      elif name == 'pca':\n",
        "        myDictionary['pca__n_components'] = n_components\n",
        "      elif name == 'std_scaler':\n",
        "        myDictionary['std_scaler__with_mean'] = tf\n",
        "        myDictionary['std_scaler__with_std'] = tf\n",
        "\n",
        "    estimator = GridSearchCV(pipe, myDictionary, cv=10, scoring=method, n_jobs=-1)\n",
        "   \n",
        "    # Find the optimal model for this pipeline architecture\n",
        "    estimator.fit(train, train_labels)\n",
        "\n",
        "    scores.append(estimator.best_score_)\n",
        "    estimators.append(estimator.best_estimator_)\n",
        "\n",
        "  max_score = max(scores)\n",
        "  max_index = scores.index(max_score)\n",
        "  max_estimator = estimators[max_index]\n",
        "\n",
        "  myBestEstimators.append(max_estimator)\n",
        "\n",
        "  print('Optimal estimator for metric {} is:\\n{}'.format(method, max_estimator))\n",
        "  print('with score: {:.2f} %'.format(max_score * 100))"
      ],
      "execution_count": null,
      "outputs": [
        {
          "output_type": "stream",
          "name": "stdout",
          "text": [
            "Optimal estimator for metric accuracy is:\n",
            "Pipeline(memory='tmp',\n",
            "         steps=[('selector', VarianceThreshold(threshold=0)),\n",
            "                ('std_scaler', StandardScaler(with_std=False)),\n",
            "                ('sampler', RandomOverSampler()), ('pca', PCA(n_components=2)),\n",
            "                ('dummy', DummyClassifier(strategy='stratified'))])\n",
            "with score: 69.00 %\n",
            "Optimal estimator for metric f1 is:\n",
            "Pipeline(memory='tmp',\n",
            "         steps=[('std_scaler', StandardScaler(with_mean=False, with_std=False)),\n",
            "                ('dummy', DummyClassifier(strategy='uniform'))])\n",
            "with score: 61.33 %\n"
          ]
        }
      ]
    },
    {
      "cell_type": "markdown",
      "metadata": {
        "id": "-z9aNL-QfO0y"
      },
      "source": [
        "#### Gaussian Naive Bayes (GNB)"
      ]
    },
    {
      "cell_type": "code",
      "metadata": {
        "colab": {
          "base_uri": "https://localhost:8080/"
        },
        "id": "TJKlUxOPfjtD",
        "outputId": "574d5a63-f84b-4328-a5ad-528517bcfbdd"
      },
      "source": [
        "clf = GaussianNB()\n",
        "\n",
        "for method in metrics:\n",
        "  scores = []\n",
        "  estimators = []\n",
        "\n",
        "  for i in range(len(steps)):\n",
        "    # Construct the pipe with the specific architecture for this classifier\n",
        "    mySteps = steps[i][:]\n",
        "    mySteps.append(('GNB', clf))\n",
        "    pipe = Pipeline(steps=mySteps, memory='tmp')\n",
        "\n",
        "    # Construct a temporary dictionary with only the values needed for this pipe\n",
        "    myDictionary = {'GNB__var_smoothing': np.logspace(-9, 0)}\n",
        "    for element in mySteps:\n",
        "      name = element[0]\n",
        "      if name == 'selector':\n",
        "        myDictionary['selector__threshold'] = vthreshold\n",
        "      elif name == 'pca':\n",
        "        myDictionary['pca__n_components'] = n_components\n",
        "      elif name == 'std_scaler':\n",
        "        myDictionary['std_scaler__with_mean'] = tf\n",
        "        myDictionary['std_scaler__with_std'] = tf\n",
        "\n",
        "    estimator = GridSearchCV(pipe, myDictionary, cv=10, scoring=method, n_jobs=-1)\n",
        "   \n",
        "    # Find the optimal model for this pipeline architecture\n",
        "    estimator.fit(train, train_labels)\n",
        "\n",
        "    scores.append(estimator.best_score_)\n",
        "    estimators.append(estimator.best_estimator_)\n",
        "\n",
        "  max_score = max(scores)\n",
        "  max_index = scores.index(max_score)\n",
        "  max_estimator = estimators[max_index]\n",
        "\n",
        "  myBestEstimators.append(max_estimator)\n",
        "\n",
        "  print('Optimal estimator for metric {} is:\\n{}'.format(method, max_estimator))\n",
        "  print('with score: {:.2f} %'.format(max_score * 100))"
      ],
      "execution_count": null,
      "outputs": [
        {
          "output_type": "stream",
          "name": "stdout",
          "text": [
            "Optimal estimator for metric accuracy is:\n",
            "Pipeline(memory='tmp',\n",
            "         steps=[('selector', VarianceThreshold(threshold=0)),\n",
            "                ('std_scaler', StandardScaler()),\n",
            "                ('sampler', RandomOverSampler()), ('pca', PCA(n_components=6)),\n",
            "                ('GNB', GaussianNB(var_smoothing=1.0))])\n",
            "with score: 80.00 %\n",
            "Optimal estimator for metric f1 is:\n",
            "Pipeline(memory='tmp',\n",
            "         steps=[('minmax_scaler', MinMaxScaler()),\n",
            "                ('sampler', RandomOverSampler()),\n",
            "                ('GNB', GaussianNB(var_smoothing=0.07906043210907701))])\n",
            "with score: 71.00 %\n"
          ]
        }
      ]
    },
    {
      "cell_type": "markdown",
      "metadata": {
        "id": "RUDYZXZafShn"
      },
      "source": [
        "#### KNeirestNeighbors (kNN)"
      ]
    },
    {
      "cell_type": "code",
      "metadata": {
        "colab": {
          "base_uri": "https://localhost:8080/"
        },
        "id": "-RmqUZTakR10",
        "outputId": "368e8c66-ed3b-4be2-836d-5fd6298aae0b"
      },
      "source": [
        "clf = KNeighborsClassifier(n_jobs=-1)\n",
        "\n",
        "for method in metrics:\n",
        "  scores = []\n",
        "  estimators = []\n",
        "\n",
        "  for i in range(len(steps)):\n",
        "    # Construct the pipe with the specific architecture for this classifier\n",
        "    mySteps = steps[i][:]\n",
        "    mySteps.append(('knn', clf))\n",
        "    pipe = Pipeline(steps=mySteps, memory='tmp')\n",
        "\n",
        "    # Construct a temporary dictionary with only the values needed for this pipe\n",
        "    myDictionary = {\n",
        "        'knn__n_neighbors': [3, 9, 17],\n",
        "        'knn__weights': ['uniform', 'distance'],\n",
        "        # 'knn__algorithm': ['auto', 'ball_tree', 'kd_tree', 'brute'],\n",
        "        'knn__p': [1, 2, 3]\n",
        "    }\n",
        "    for element in mySteps:\n",
        "      name = element[0]\n",
        "      if name == 'selector':\n",
        "        myDictionary['selector__threshold'] = vthreshold\n",
        "      elif name == 'pca':\n",
        "        myDictionary['pca__n_components'] = n_components\n",
        "      elif name == 'std_scaler':\n",
        "        myDictionary['std_scaler__with_mean'] = tf\n",
        "        myDictionary['std_scaler__with_std'] = tf\n",
        "\n",
        "    estimator = GridSearchCV(pipe, myDictionary, cv=10, scoring=method, n_jobs=-1)\n",
        "   \n",
        "    # Find the optimal model for this pipeline architecture\n",
        "    estimator.fit(train, train_labels)\n",
        "\n",
        "    scores.append(estimator.best_score_)\n",
        "    estimators.append(estimator.best_estimator_)\n",
        "\n",
        "  max_score = max(scores)\n",
        "  max_index = scores.index(max_score)\n",
        "  max_estimator = estimators[max_index]\n",
        "\n",
        "  myBestEstimators.append(max_estimator)\n",
        "\n",
        "  print('Optimal estimator for metric {} is:\\n{}'.format(method, max_estimator))\n",
        "  print('with score: {:.2f} %'.format(max_score * 100))"
      ],
      "execution_count": null,
      "outputs": [
        {
          "output_type": "stream",
          "name": "stdout",
          "text": [
            "Optimal estimator for metric accuracy is:\n",
            "Pipeline(memory='tmp',\n",
            "         steps=[('selector', VarianceThreshold(threshold=0)),\n",
            "                ('std_scaler', StandardScaler(with_mean=False)),\n",
            "                ('sampler', RandomOverSampler()), ('pca', PCA(n_components=2)),\n",
            "                ('knn', KNeighborsClassifier(n_jobs=-1, n_neighbors=17, p=3))])\n",
            "with score: 84.00 %\n",
            "Optimal estimator for metric f1 is:\n",
            "Pipeline(memory='tmp',\n",
            "         steps=[('selector', VarianceThreshold(threshold=0)),\n",
            "                ('std_scaler', StandardScaler(with_mean=False)),\n",
            "                ('sampler', RandomOverSampler()), ('pca', PCA(n_components=2)),\n",
            "                ('knn', KNeighborsClassifier(n_jobs=-1, n_neighbors=17, p=3))])\n",
            "with score: 78.00 %\n"
          ]
        }
      ]
    },
    {
      "cell_type": "markdown",
      "metadata": {
        "id": "bBHt7K9EfVVb"
      },
      "source": [
        "#### Logistic Regression"
      ]
    },
    {
      "cell_type": "code",
      "metadata": {
        "colab": {
          "base_uri": "https://localhost:8080/"
        },
        "id": "K_4bqTa2nrRp",
        "outputId": "81f41b33-9b16-4de2-8e5b-51f1d53cc4aa"
      },
      "source": [
        "clf = LogisticRegression(n_jobs=-1)\n",
        "\n",
        "for method in metrics:\n",
        "  scores = []\n",
        "  estimators = []\n",
        "\n",
        "  for i in range(len(steps)):\n",
        "    # Construct the pipe with the specific architecture for this classifier\n",
        "    mySteps = steps[i][:]\n",
        "    mySteps.append(('LR', clf))\n",
        "    pipe = Pipeline(steps=mySteps, memory='tmp')\n",
        "\n",
        "    # Construct a temporary dictionary with only the values needed for this pipe\n",
        "    myDictionary = {\n",
        "        # 'LR__tol': [1e-5, 1e-4, 1e-3],\n",
        "        # 'LR__fit_intercept': tf,\n",
        "        'LR__solver': ['newton-cg', 'lbfgs', 'liblinear', 'sag', 'saga'],\n",
        "        'LR__max_iter': [50, 100, 200],\n",
        "        'LR__warm_start': tf\n",
        "    }\n",
        "    for element in mySteps:\n",
        "      name = element[0]\n",
        "      if name == 'selector':\n",
        "        myDictionary['selector__threshold'] = vthreshold\n",
        "      elif name == 'pca':\n",
        "        myDictionary['pca__n_components'] = n_components\n",
        "      elif name == 'std_scaler':\n",
        "        myDictionary['std_scaler__with_mean'] = tf\n",
        "        myDictionary['std_scaler__with_std'] = tf\n",
        "\n",
        "    estimator = GridSearchCV(pipe, myDictionary, cv=10, scoring=method, n_jobs=-1)\n",
        "   \n",
        "    # Find the optimal model for this pipeline architecture\n",
        "    estimator.fit(train, train_labels)\n",
        "\n",
        "    scores.append(estimator.best_score_)\n",
        "    estimators.append(estimator.best_estimator_)\n",
        "\n",
        "  max_score = max(scores)\n",
        "  max_index = scores.index(max_score)\n",
        "  max_estimator = estimators[max_index]\n",
        "\n",
        "  myBestEstimators.append(max_estimator)\n",
        "  \n",
        "  print('Optimal estimator for metric {} is:\\n{}'.format(method, max_estimator))\n",
        "  print('with score: {:.2f} %'.format(max_score * 100))"
      ],
      "execution_count": null,
      "outputs": [
        {
          "output_type": "stream",
          "name": "stdout",
          "text": [
            "Optimal estimator for metric accuracy is:\n",
            "Pipeline(memory='tmp',\n",
            "         steps=[('scaler', StandardScaler()), ('sampler', RandomOverSampler()),\n",
            "                ('pca', PCA(n_components=2)),\n",
            "                ('LR',\n",
            "                 LogisticRegression(max_iter=50, n_jobs=-1, solver='liblinear',\n",
            "                                    warm_start=True))])\n",
            "with score: 80.00 %\n",
            "Optimal estimator for metric f1 is:\n",
            "Pipeline(memory='tmp',\n",
            "         steps=[('scaler', MinMaxScaler()), ('sampler', RandomOverSampler()),\n",
            "                ('pca', PCA(n_components=6)),\n",
            "                ('LR',\n",
            "                 LogisticRegression(max_iter=50, n_jobs=-1, solver='newton-cg',\n",
            "                                    warm_start=True))])\n",
            "with score: 74.00 %\n"
          ]
        }
      ]
    },
    {
      "cell_type": "markdown",
      "metadata": {
        "id": "T51TRZuGANXE"
      },
      "source": [
        "## Results"
      ]
    },
    {
      "cell_type": "code",
      "metadata": {
        "colab": {
          "base_uri": "https://localhost:8080/",
          "height": 300
        },
        "id": "lz2XdIioepwD",
        "outputId": "c7a7504d-5025-4ea7-ce7e-8ae2f959fe02"
      },
      "source": [
        "import time\n",
        "\n",
        "finalResults = np.empty(shape=(8, 6))\n",
        "\n",
        "for i, est in enumerate(myBestEstimators):\n",
        "  # Fit the model using train data and predict on test data\n",
        "  # Also time the 2 processes\n",
        "  fit_start = time.time()\n",
        "  est.fit(train, train_labels)\n",
        "  fit_end = time.time()\n",
        "\n",
        "  finalResults[i, 4] = fit_end - fit_start\n",
        "\n",
        "  predict_start = time.time()\n",
        "  preds = est.predict(test)\n",
        "  predict_end = time.time()\n",
        "\n",
        "  finalResults[i, 5] = predict_end - predict_start\n",
        "\n",
        "  # Save the accuracy and f1 scores\n",
        "  acc = accuracy_score(test_labels, preds) * 100\n",
        "  f1 = f1_score(test_labels, preds) * 100\n",
        "\n",
        "  finalResults[i, 0] = acc\n",
        "  finalResults[i, 2] = f1\n",
        "\n",
        "  finalResults[i, 1] = acc - out_of_the_box_results[i//2, 0]\n",
        "  finalResults[i, 3] = f1 - out_of_the_box_results[i//2, 1]\n",
        "\n",
        "results_df = pd.DataFrame(finalResults,\n",
        "                          ['Dummy_Acc', 'Dummy_F1', 'GNB_Acc', 'GNB_F1', 'kNN_Acc', 'kNN_F1', 'LR_Acc', 'LR_F1'],\n",
        "                          ['Accuracy', 'Accuracy Improvement', 'F1-score', 'F1_score Improvement', 'Fit Time', 'Predict Time'])\n",
        "results_df"
      ],
      "execution_count": null,
      "outputs": [
        {
          "output_type": "execute_result",
          "data": {
            "text/html": [
              "<div>\n",
              "<style scoped>\n",
              "    .dataframe tbody tr th:only-of-type {\n",
              "        vertical-align: middle;\n",
              "    }\n",
              "\n",
              "    .dataframe tbody tr th {\n",
              "        vertical-align: top;\n",
              "    }\n",
              "\n",
              "    .dataframe thead th {\n",
              "        text-align: right;\n",
              "    }\n",
              "</style>\n",
              "<table border=\"1\" class=\"dataframe\">\n",
              "  <thead>\n",
              "    <tr style=\"text-align: right;\">\n",
              "      <th></th>\n",
              "      <th>Accuracy</th>\n",
              "      <th>Accuracy Improvement</th>\n",
              "      <th>F1-score</th>\n",
              "      <th>F1_score Improvement</th>\n",
              "      <th>Fit Time</th>\n",
              "      <th>Predict Time</th>\n",
              "    </tr>\n",
              "  </thead>\n",
              "  <tbody>\n",
              "    <tr>\n",
              "      <th>Dummy_Acc</th>\n",
              "      <td>34.782609</td>\n",
              "      <td>-43.478261</td>\n",
              "      <td>11.764706</td>\n",
              "      <td>11.764706</td>\n",
              "      <td>0.007687</td>\n",
              "      <td>0.000536</td>\n",
              "    </tr>\n",
              "    <tr>\n",
              "      <th>Dummy_F1</th>\n",
              "      <td>56.521739</td>\n",
              "      <td>-21.739130</td>\n",
              "      <td>28.571429</td>\n",
              "      <td>28.571429</td>\n",
              "      <td>0.002713</td>\n",
              "      <td>0.000265</td>\n",
              "    </tr>\n",
              "    <tr>\n",
              "      <th>GNB_Acc</th>\n",
              "      <td>82.608696</td>\n",
              "      <td>4.347826</td>\n",
              "      <td>66.666667</td>\n",
              "      <td>5.128205</td>\n",
              "      <td>0.007908</td>\n",
              "      <td>0.000591</td>\n",
              "    </tr>\n",
              "    <tr>\n",
              "      <th>GNB_F1</th>\n",
              "      <td>78.260870</td>\n",
              "      <td>0.000000</td>\n",
              "      <td>61.538462</td>\n",
              "      <td>0.000000</td>\n",
              "      <td>0.005103</td>\n",
              "      <td>0.000342</td>\n",
              "    </tr>\n",
              "    <tr>\n",
              "      <th>kNN_Acc</th>\n",
              "      <td>73.913043</td>\n",
              "      <td>-8.695652</td>\n",
              "      <td>50.000000</td>\n",
              "      <td>-16.666667</td>\n",
              "      <td>0.007397</td>\n",
              "      <td>0.103895</td>\n",
              "    </tr>\n",
              "    <tr>\n",
              "      <th>kNN_F1</th>\n",
              "      <td>73.913043</td>\n",
              "      <td>-8.695652</td>\n",
              "      <td>50.000000</td>\n",
              "      <td>-16.666667</td>\n",
              "      <td>0.008386</td>\n",
              "      <td>0.104260</td>\n",
              "    </tr>\n",
              "    <tr>\n",
              "      <th>LR_Acc</th>\n",
              "      <td>73.913043</td>\n",
              "      <td>-4.347826</td>\n",
              "      <td>57.142857</td>\n",
              "      <td>-4.395604</td>\n",
              "      <td>0.007478</td>\n",
              "      <td>0.000405</td>\n",
              "    </tr>\n",
              "    <tr>\n",
              "      <th>LR_F1</th>\n",
              "      <td>82.608696</td>\n",
              "      <td>4.347826</td>\n",
              "      <td>66.666667</td>\n",
              "      <td>5.128205</td>\n",
              "      <td>0.294469</td>\n",
              "      <td>0.000666</td>\n",
              "    </tr>\n",
              "  </tbody>\n",
              "</table>\n",
              "</div>"
            ],
            "text/plain": [
              "            Accuracy  Accuracy Improvement  ...  Fit Time  Predict Time\n",
              "Dummy_Acc  34.782609            -43.478261  ...  0.007687      0.000536\n",
              "Dummy_F1   56.521739            -21.739130  ...  0.002713      0.000265\n",
              "GNB_Acc    82.608696              4.347826  ...  0.007908      0.000591\n",
              "GNB_F1     78.260870              0.000000  ...  0.005103      0.000342\n",
              "kNN_Acc    73.913043             -8.695652  ...  0.007397      0.103895\n",
              "kNN_F1     73.913043             -8.695652  ...  0.008386      0.104260\n",
              "LR_Acc     73.913043             -4.347826  ...  0.007478      0.000405\n",
              "LR_F1      82.608696              4.347826  ...  0.294469      0.000666\n",
              "\n",
              "[8 rows x 6 columns]"
            ]
          },
          "metadata": {},
          "execution_count": 53
        }
      ]
    },
    {
      "cell_type": "code",
      "metadata": {
        "id": "xlaWkKBMb184",
        "colab": {
          "base_uri": "https://localhost:8080/",
          "height": 513
        },
        "outputId": "e1467813-15a8-4887-fcce-ecf6f8653acf"
      },
      "source": [
        "# Accuracy\n",
        "\n",
        "x = ['Dummy', 'GNB', 'kNN', 'LR']\n",
        "x_axis = np.arange(len(x))\n",
        "\n",
        "finalAcc = []\n",
        "finalf1 = []\n",
        "\n",
        "for i in range(8):\n",
        "  if i % 2 == 0:\n",
        "    finalAcc.append(finalResults[i][0])\n",
        "  else:\n",
        "    finalf1.append(finalResults[i][0])\n",
        "\n",
        "plt.figure(figsize=(16, 8))\n",
        "\n",
        "plt.bar(x_axis-0.2, finalAcc, 0.2, label='Optimized for Accuracy')\n",
        "plt.bar(x_axis, finalf1, 0.2, label='Optimized for F1')\n",
        "plt.bar(x_axis+0.2, out_of_the_box_results[:, 0], 0.2, label='Out-of-the-box')\n",
        "\n",
        "plt.xticks(x_axis, x)\n",
        "plt.xlabel('Classifiers')\n",
        "plt.ylabel('Accuracy')\n",
        "plt.title('Optimized vs out-of-the-box Accuracy')\n",
        "plt.legend()\n",
        "plt.show()"
      ],
      "execution_count": null,
      "outputs": [
        {
          "output_type": "display_data",
          "data": {
            "image/png": "[encoded data removed]",
            "text/plain": [
              "<Figure size 1152x576 with 1 Axes>"
            ]
          },
          "metadata": {
            "needs_background": "light"
          }
        }
      ]
    },
    {
      "cell_type": "code",
      "metadata": {
        "colab": {
          "base_uri": "https://localhost:8080/",
          "height": 513
        },
        "id": "eBfzteJ1FvQM",
        "outputId": "cfd52d3d-b8d3-4615-fc3a-9f3fe48a1df8"
      },
      "source": [
        "# F1-score\n",
        "\n",
        "x = ['Dummy', 'GNB', 'kNN', 'LR']\n",
        "x_axis = np.arange(len(x))\n",
        "\n",
        "finalAcc = []\n",
        "finalf1 = []\n",
        "\n",
        "for i in range(8):\n",
        "  if i % 2 == 0:\n",
        "    finalAcc.append(finalResults[i][2])\n",
        "  else:\n",
        "    finalf1.append(finalResults[i][2])\n",
        "\n",
        "plt.figure(figsize=(16, 8))\n",
        "\n",
        "plt.bar(x_axis-0.2, finalAcc, 0.2, label='Optimized for Accuracy')\n",
        "plt.bar(x_axis, finalf1, 0.2, label='Optimized for F1')\n",
        "plt.bar(x_axis+0.2, out_of_the_box_results[:, 1], 0.2, label='Out-of-the-box')\n",
        "\n",
        "plt.xticks(x_axis, x)\n",
        "plt.xlabel('Classifiers')\n",
        "plt.ylabel('Accuracy')\n",
        "plt.title('Optimized vs out-of-the-box F1-score')\n",
        "plt.legend()\n",
        "plt.show()"
      ],
      "execution_count": null,
      "outputs": [
        {
          "output_type": "display_data",
          "data": {
            "image/png": "[encoded data removed]",
            "text/plain": [
              "<Figure size 1152x576 with 1 Axes>"
            ]
          },
          "metadata": {
            "needs_background": "light"
          }
        }
      ]
    },
    {
      "cell_type": "code",
      "metadata": {
        "id": "HpeUZAYfKsIS"
      },
      "source": [
        "from sklearn.metrics import confusion_matrix\n",
        "import seaborn as sns\n",
        "\n",
        "# Find best and worst estimator excluding dummy\n",
        "newBestEstimators = myBestEstimators[2::]\n",
        "accuracyScores = finalResults[2::, 0].tolist()\n",
        "\n",
        "max_score = max(accuracyScores)\n",
        "min_score = min(accuracyScores)\n",
        "\n",
        "maxAccEstimator = newBestEstimators[accuracyScores.index(max_score)]\n",
        "minAccEstimator = newBestEstimators[accuracyScores.index(min_score)]\n",
        "\n",
        "maxAccEstimator.fit(train, train_labels)\n",
        "preds = maxAccEstimator.predict(test)\n",
        "conf1 = confusion_matrix(test_labels, preds)\n",
        "\n",
        "minAccEstimator.fit(train, train_labels)\n",
        "preds = minAccEstimator.predict(test)\n",
        "conf2 = confusion_matrix(test_labels, preds)"
      ],
      "execution_count": null,
      "outputs": []
    },
    {
      "cell_type": "code",
      "metadata": {
        "id": "qOuMH_vtUaaD"
      },
      "source": [
        "# Heatmap Visualization Parameters\n",
        "def visualize_confusion_matrix(conf):\n",
        "  group_names = ['Correctly dead', 'Predicted alive while dead', 'Predicted dead while alive', 'Correctly alive']\n",
        "  group_counts = [value for value in conf.flatten()]\n",
        "  group_percentages = ['{0:.2%}'.format(value) for value in conf.flatten() / np.sum(conf)]\n",
        "\n",
        "  labels = [f'{v1}\\n{v2}\\n{v3}' for v1, v2, v3 in\n",
        "            zip(group_names, group_counts, group_percentages)]\n",
        "  labels = np.asarray(labels).reshape(2, 2)\n",
        "\n",
        "  sns.heatmap(conf, annot=labels, fmt='', cmap='Blues')"
      ],
      "execution_count": null,
      "outputs": []
    },
    {
      "cell_type": "code",
      "metadata": {
        "colab": {
          "base_uri": "https://localhost:8080/",
          "height": 352
        },
        "id": "zv-uQzqZUzoA",
        "outputId": "97c2b976-c74f-43c4-8488-869fb8050a26"
      },
      "source": [
        "print(maxAccEstimator)\n",
        "visualize_confusion_matrix(conf1)"
      ],
      "execution_count": null,
      "outputs": [
        {
          "output_type": "stream",
          "name": "stdout",
          "text": [
            "Pipeline(memory='tmp',\n",
            "         steps=[('selector', VarianceThreshold(threshold=0)),\n",
            "                ('std_scaler', StandardScaler()),\n",
            "                ('sampler', RandomOverSampler()), ('pca', PCA(n_components=6)),\n",
            "                ('GNB', GaussianNB(var_smoothing=1.0))])\n"
          ]
        },
        {
          "output_type": "display_data",
          "data": {
            "image/png": "[encoded data removed]",
            "text/plain": [
              "<Figure size 432x288 with 2 Axes>"
            ]
          },
          "metadata": {
            "needs_background": "light"
          }
        }
      ]
    },
    {
      "cell_type": "code",
      "metadata": {
        "colab": {
          "base_uri": "https://localhost:8080/",
          "height": 356
        },
        "id": "kMG1OScNRG7N",
        "outputId": "f335018d-aeb4-4976-b12d-ef95d0930807"
      },
      "source": [
        "print(minAccEstimator)\n",
        "visualize_confusion_matrix(conf2)"
      ],
      "execution_count": null,
      "outputs": [
        {
          "output_type": "stream",
          "name": "stdout",
          "text": [
            "Pipeline(memory='tmp',\n",
            "         steps=[('selector', VarianceThreshold(threshold=0)),\n",
            "                ('std_scaler', StandardScaler(with_mean=False)),\n",
            "                ('sampler', RandomOverSampler()), ('pca', PCA(n_components=2)),\n",
            "                ('knn', KNeighborsClassifier(n_jobs=-1, n_neighbors=17, p=3))])\n"
          ]
        },
        {
          "output_type": "display_data",
          "data": {
            "image/png": "[encoded data removed]",
            "text/plain": [
              "<Figure size 432x288 with 2 Axes>"
            ]
          },
          "metadata": {
            "needs_background": "light"
          }
        }
      ]
    },
    {
      "cell_type": "markdown",
      "metadata": {
        "id": "FnkeK8tJBMZt"
      },
      "source": [
        "We can observe significant differences bettween F1-score and accuracy due to small data volume."
      ]
    }
  ]
}