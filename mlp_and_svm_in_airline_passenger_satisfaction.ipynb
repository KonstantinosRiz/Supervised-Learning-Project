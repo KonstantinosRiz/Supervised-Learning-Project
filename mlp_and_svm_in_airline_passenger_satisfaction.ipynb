{
  "nbformat": 4,
  "nbformat_minor": 0,
  "metadata": {
    "kernelspec": {
      "language": "python",
      "display_name": "Python 3",
      "name": "python3"
    },
    "language_info": {
      "name": "python",
      "version": "3.7.10",
      "mimetype": "text/x-python",
      "codemirror_mode": {
        "name": "ipython",
        "version": 3
      },
      "pygments_lexer": "ipython3",
      "nbconvert_exporter": "python",
      "file_extension": ".py"
    },
    "colab": {
      "name": "mlp-and-svm-in-airline-passenger-satisfaction.ipynb",
      "provenance": [],
      "collapsed_sections": [
        "vnGyBSJ4FsGd",
        "-dZDyDxuFsGf",
        "ORjiCrb2FsGh"
      ]
    }
  },
  "cells": [
    {
      "cell_type": "markdown",
      "metadata": {
        "id": "kX7qpQ_GFsGB"
      },
      "source": [
        "# Introduction to Dataset"
      ]
    },
    {
      "cell_type": "markdown",
      "metadata": {
        "id": "X6S3YOAyFsGJ"
      },
      "source": [
        "This dataset contains an airline passenger satisfaction survey. It was created by observing the passengers from past flights of an airline company. It consists of factors that are supposed to affect the passengers' satisfaction during the journey. Most of them are personal information (eg. gender, age), flight information (eg. gate location, arrival delay) and ratings appointed by the passengers for flights services (eg. food, wi-fi).\n",
        "\n",
        "Our purpose is to use the labeled training data to train our models and accurately predict, given a test dataset, which passengers were left satisfied."
      ]
    },
    {
      "cell_type": "code",
      "metadata": {
        "execution": {
          "iopub.status.busy": "2021-12-03T00:28:23.157041Z",
          "iopub.execute_input": "2021-12-03T00:28:23.157627Z",
          "iopub.status.idle": "2021-12-03T00:28:32.324955Z",
          "shell.execute_reply.started": "2021-12-03T00:28:23.157587Z",
          "shell.execute_reply": "2021-12-03T00:28:32.324005Z"
        },
        "trusted": true,
        "id": "Z_o9sjn3FsGL",
        "outputId": "c31e7e31-5e47-478f-a7e3-020e8f02b0da"
      },
      "source": [
        "# Install ray\n",
        "! pip install tune-sklearn ray[tune]"
      ],
      "execution_count": null,
      "outputs": [
        {
          "name": "stdout",
          "text": "Collecting tune-sklearn\n  Downloading tune_sklearn-0.4.1-py3-none-any.whl (40 kB)\n\u001b[K     |████████████████████████████████| 40 kB 916 kB/s eta 0:00:01\n\u001b[?25hRequirement already satisfied: ray[tune] in /opt/conda/lib/python3.7/site-packages (1.7.1)\nRequirement already satisfied: numpy>=1.16 in /opt/conda/lib/python3.7/site-packages (from tune-sklearn) (1.19.5)\nRequirement already satisfied: scipy in /opt/conda/lib/python3.7/site-packages (from tune-sklearn) (1.7.1)\nRequirement already satisfied: scikit-learn in /opt/conda/lib/python3.7/site-packages (from tune-sklearn) (0.23.2)\nRequirement already satisfied: click>=7.0 in /opt/conda/lib/python3.7/site-packages (from ray[tune]) (8.0.1)\nRequirement already satisfied: grpcio>=1.28.1 in /opt/conda/lib/python3.7/site-packages (from ray[tune]) (1.38.1)\nRequirement already satisfied: attrs in /opt/conda/lib/python3.7/site-packages (from ray[tune]) (21.2.0)\nRequirement already satisfied: pyyaml in /opt/conda/lib/python3.7/site-packages (from ray[tune]) (5.4.1)\nRequirement already satisfied: protobuf>=3.15.3 in /opt/conda/lib/python3.7/site-packages (from ray[tune]) (3.19.0)\nRequirement already satisfied: filelock in /opt/conda/lib/python3.7/site-packages (from ray[tune]) (3.0.12)\nRequirement already satisfied: redis>=3.5.0 in /opt/conda/lib/python3.7/site-packages (from ray[tune]) (3.5.3)\nRequirement already satisfied: msgpack<2.0.0,>=1.0.0 in /opt/conda/lib/python3.7/site-packages (from ray[tune]) (1.0.2)\nRequirement already satisfied: tensorboardX>=1.9 in /opt/conda/lib/python3.7/site-packages (from ray[tune]) (2.2)\nRequirement already satisfied: pandas in /opt/conda/lib/python3.7/site-packages (from ray[tune]) (1.3.3)\nRequirement already satisfied: tabulate in /opt/conda/lib/python3.7/site-packages (from ray[tune]) (0.8.9)\nRequirement already satisfied: requests in /opt/conda/lib/python3.7/site-packages (from ray[tune]) (2.25.1)\nRequirement already satisfied: importlib-metadata in /opt/conda/lib/python3.7/site-packages (from click>=7.0->ray[tune]) (4.8.1)\nRequirement already satisfied: six>=1.5.2 in /opt/conda/lib/python3.7/site-packages (from grpcio>=1.28.1->ray[tune]) (1.16.0)\nRequirement already satisfied: zipp>=0.5 in /opt/conda/lib/python3.7/site-packages (from importlib-metadata->click>=7.0->ray[tune]) (3.5.0)\nRequirement already satisfied: typing-extensions>=3.6.4 in /opt/conda/lib/python3.7/site-packages (from importlib-metadata->click>=7.0->ray[tune]) (3.10.0.2)\nRequirement already satisfied: python-dateutil>=2.7.3 in /opt/conda/lib/python3.7/site-packages (from pandas->ray[tune]) (2.8.0)\nRequirement already satisfied: pytz>=2017.3 in /opt/conda/lib/python3.7/site-packages (from pandas->ray[tune]) (2021.1)\nRequirement already satisfied: chardet<5,>=3.0.2 in /opt/conda/lib/python3.7/site-packages (from requests->ray[tune]) (4.0.0)\nRequirement already satisfied: urllib3<1.27,>=1.21.1 in /opt/conda/lib/python3.7/site-packages (from requests->ray[tune]) (1.26.6)\nRequirement already satisfied: certifi>=2017.4.17 in /opt/conda/lib/python3.7/site-packages (from requests->ray[tune]) (2021.10.8)\nRequirement already satisfied: idna<3,>=2.5 in /opt/conda/lib/python3.7/site-packages (from requests->ray[tune]) (2.10)\nRequirement already satisfied: joblib>=0.11 in /opt/conda/lib/python3.7/site-packages (from scikit-learn->tune-sklearn) (1.0.1)\nRequirement already satisfied: threadpoolctl>=2.0.0 in /opt/conda/lib/python3.7/site-packages (from scikit-learn->tune-sklearn) (2.2.0)\nInstalling collected packages: tune-sklearn\nSuccessfully installed tune-sklearn-0.4.1\n\u001b[33mWARNING: Running pip as the 'root' user can result in broken permissions and conflicting behaviour with the system package manager. It is recommended to use a virtual environment instead: https://pip.pypa.io/warnings/venv\u001b[0m\n",
          "output_type": "stream"
        }
      ]
    },
    {
      "cell_type": "markdown",
      "metadata": {
        "id": "n5X4JAnkFsGO"
      },
      "source": [
        "# Data Overview"
      ]
    },
    {
      "cell_type": "code",
      "metadata": {
        "execution": {
          "iopub.status.busy": "2021-12-03T00:28:32.327029Z",
          "iopub.execute_input": "2021-12-03T00:28:32.327372Z",
          "iopub.status.idle": "2021-12-03T00:28:33.296747Z",
          "shell.execute_reply.started": "2021-12-03T00:28:32.327337Z",
          "shell.execute_reply": "2021-12-03T00:28:33.296047Z"
        },
        "trusted": true,
        "id": "IWn8y6x7FsGP"
      },
      "source": [
        "import numpy as np\n",
        "import csv\n",
        "import pandas as pd\n",
        "from sklearn.impute import SimpleImputer\n",
        "from sklearn.model_selection import train_test_split\n",
        "\n",
        "import sys\n",
        "np.set_printoptions(threshold=sys.maxsize)"
      ],
      "execution_count": null,
      "outputs": []
    },
    {
      "cell_type": "markdown",
      "metadata": {
        "id": "OWzfiYyVFsGQ"
      },
      "source": [
        "We first import our data from the kaggle library."
      ]
    },
    {
      "cell_type": "code",
      "metadata": {
        "execution": {
          "iopub.status.busy": "2021-12-03T00:28:33.298125Z",
          "iopub.execute_input": "2021-12-03T00:28:33.298517Z",
          "iopub.status.idle": "2021-12-03T00:28:33.796824Z",
          "shell.execute_reply.started": "2021-12-03T00:28:33.298476Z",
          "shell.execute_reply": "2021-12-03T00:28:33.796128Z"
        },
        "trusted": true,
        "id": "2ibNJxSjFsGQ"
      },
      "source": [
        "# Import our data set from directory\n",
        "directory = \"/kaggle/input/airline-passenger-satisfaction/\"\n",
        "feature_tables = ['train.csv', 'test.csv']\n",
        "\n",
        "df_train = directory + feature_tables[0]\n",
        "df_test = directory + feature_tables[1]\n",
        "\n",
        "df = pd.read_csv(df_train, index_col=0)\n",
        "df2 = pd.read_csv(df_test, index_col=0)"
      ],
      "execution_count": null,
      "outputs": []
    },
    {
      "cell_type": "markdown",
      "metadata": {
        "id": "4vVhs7i7FsGR"
      },
      "source": [
        "We gain a sample view of our dataset."
      ]
    },
    {
      "cell_type": "code",
      "metadata": {
        "execution": {
          "iopub.status.busy": "2021-12-03T00:28:33.798874Z",
          "iopub.execute_input": "2021-12-03T00:28:33.799136Z",
          "iopub.status.idle": "2021-12-03T00:28:33.826663Z",
          "shell.execute_reply.started": "2021-12-03T00:28:33.799109Z",
          "shell.execute_reply": "2021-12-03T00:28:33.825823Z"
        },
        "trusted": true,
        "id": "cEfL3EvSFsGS",
        "outputId": "dbf0c47b-2425-4ad8-a014-f06e198a2d4b"
      },
      "source": [
        "df.head()"
      ],
      "execution_count": null,
      "outputs": [
        {
          "execution_count": 6,
          "output_type": "execute_result",
          "data": {
            "text/plain": "       id  Gender      Customer Type  Age   Type of Travel     Class  \\\n0   70172    Male     Loyal Customer   13  Personal Travel  Eco Plus   \n1    5047    Male  disloyal Customer   25  Business travel  Business   \n2  110028  Female     Loyal Customer   26  Business travel  Business   \n3   24026  Female     Loyal Customer   25  Business travel  Business   \n4  119299    Male     Loyal Customer   61  Business travel  Business   \n\n   Flight Distance  Inflight wifi service  Departure/Arrival time convenient  \\\n0              460                      3                                  4   \n1              235                      3                                  2   \n2             1142                      2                                  2   \n3              562                      2                                  5   \n4              214                      3                                  3   \n\n   Ease of Online booking  ...  Inflight entertainment  On-board service  \\\n0                       3  ...                       5                 4   \n1                       3  ...                       1                 1   \n2                       2  ...                       5                 4   \n3                       5  ...                       2                 2   \n4                       3  ...                       3                 3   \n\n   Leg room service  Baggage handling  Checkin service  Inflight service  \\\n0                 3                 4                4                 5   \n1                 5                 3                1                 4   \n2                 3                 4                4                 4   \n3                 5                 3                1                 4   \n4                 4                 4                3                 3   \n\n   Cleanliness  Departure Delay in Minutes  Arrival Delay in Minutes  \\\n0            5                          25                      18.0   \n1            1                           1                       6.0   \n2            5                           0                       0.0   \n3            2                          11                       9.0   \n4            3                           0                       0.0   \n\n              satisfaction  \n0  neutral or dissatisfied  \n1  neutral or dissatisfied  \n2                satisfied  \n3  neutral or dissatisfied  \n4                satisfied  \n\n[5 rows x 24 columns]",
            "text/html": "<div>\n<style scoped>\n    .dataframe tbody tr th:only-of-type {\n        vertical-align: middle;\n    }\n\n    .dataframe tbody tr th {\n        vertical-align: top;\n    }\n\n    .dataframe thead th {\n        text-align: right;\n    }\n</style>\n<table border=\"1\" class=\"dataframe\">\n  <thead>\n    <tr style=\"text-align: right;\">\n      <th></th>\n      <th>id</th>\n      <th>Gender</th>\n      <th>Customer Type</th>\n      <th>Age</th>\n      <th>Type of Travel</th>\n      <th>Class</th>\n      <th>Flight Distance</th>\n      <th>Inflight wifi service</th>\n      <th>Departure/Arrival time convenient</th>\n      <th>Ease of Online booking</th>\n      <th>...</th>\n      <th>Inflight entertainment</th>\n      <th>On-board service</th>\n      <th>Leg room service</th>\n      <th>Baggage handling</th>\n      <th>Checkin service</th>\n      <th>Inflight service</th>\n      <th>Cleanliness</th>\n      <th>Departure Delay in Minutes</th>\n      <th>Arrival Delay in Minutes</th>\n      <th>satisfaction</th>\n    </tr>\n  </thead>\n  <tbody>\n    <tr>\n      <th>0</th>\n      <td>70172</td>\n      <td>Male</td>\n      <td>Loyal Customer</td>\n      <td>13</td>\n      <td>Personal Travel</td>\n      <td>Eco Plus</td>\n      <td>460</td>\n      <td>3</td>\n      <td>4</td>\n      <td>3</td>\n      <td>...</td>\n      <td>5</td>\n      <td>4</td>\n      <td>3</td>\n      <td>4</td>\n      <td>4</td>\n      <td>5</td>\n      <td>5</td>\n      <td>25</td>\n      <td>18.0</td>\n      <td>neutral or dissatisfied</td>\n    </tr>\n    <tr>\n      <th>1</th>\n      <td>5047</td>\n      <td>Male</td>\n      <td>disloyal Customer</td>\n      <td>25</td>\n      <td>Business travel</td>\n      <td>Business</td>\n      <td>235</td>\n      <td>3</td>\n      <td>2</td>\n      <td>3</td>\n      <td>...</td>\n      <td>1</td>\n      <td>1</td>\n      <td>5</td>\n      <td>3</td>\n      <td>1</td>\n      <td>4</td>\n      <td>1</td>\n      <td>1</td>\n      <td>6.0</td>\n      <td>neutral or dissatisfied</td>\n    </tr>\n    <tr>\n      <th>2</th>\n      <td>110028</td>\n      <td>Female</td>\n      <td>Loyal Customer</td>\n      <td>26</td>\n      <td>Business travel</td>\n      <td>Business</td>\n      <td>1142</td>\n      <td>2</td>\n      <td>2</td>\n      <td>2</td>\n      <td>...</td>\n      <td>5</td>\n      <td>4</td>\n      <td>3</td>\n      <td>4</td>\n      <td>4</td>\n      <td>4</td>\n      <td>5</td>\n      <td>0</td>\n      <td>0.0</td>\n      <td>satisfied</td>\n    </tr>\n    <tr>\n      <th>3</th>\n      <td>24026</td>\n      <td>Female</td>\n      <td>Loyal Customer</td>\n      <td>25</td>\n      <td>Business travel</td>\n      <td>Business</td>\n      <td>562</td>\n      <td>2</td>\n      <td>5</td>\n      <td>5</td>\n      <td>...</td>\n      <td>2</td>\n      <td>2</td>\n      <td>5</td>\n      <td>3</td>\n      <td>1</td>\n      <td>4</td>\n      <td>2</td>\n      <td>11</td>\n      <td>9.0</td>\n      <td>neutral or dissatisfied</td>\n    </tr>\n    <tr>\n      <th>4</th>\n      <td>119299</td>\n      <td>Male</td>\n      <td>Loyal Customer</td>\n      <td>61</td>\n      <td>Business travel</td>\n      <td>Business</td>\n      <td>214</td>\n      <td>3</td>\n      <td>3</td>\n      <td>3</td>\n      <td>...</td>\n      <td>3</td>\n      <td>3</td>\n      <td>4</td>\n      <td>4</td>\n      <td>3</td>\n      <td>3</td>\n      <td>3</td>\n      <td>0</td>\n      <td>0.0</td>\n      <td>satisfied</td>\n    </tr>\n  </tbody>\n</table>\n<p>5 rows × 24 columns</p>\n</div>"
          },
          "metadata": {}
        }
      ]
    },
    {
      "cell_type": "markdown",
      "metadata": {
        "id": "VL3rfKkzFsGT"
      },
      "source": [
        "Obviously the id does not contain useful information and we can discard it."
      ]
    },
    {
      "cell_type": "code",
      "metadata": {
        "execution": {
          "iopub.status.busy": "2021-12-03T00:28:33.829058Z",
          "iopub.execute_input": "2021-12-03T00:28:33.829461Z",
          "iopub.status.idle": "2021-12-03T00:28:33.864968Z",
          "shell.execute_reply.started": "2021-12-03T00:28:33.829415Z",
          "shell.execute_reply": "2021-12-03T00:28:33.864377Z"
        },
        "trusted": true,
        "id": "iUu5qmhbFsGU",
        "outputId": "77a1b787-c740-427f-bbe0-7dc6ecb5ac99"
      },
      "source": [
        "df.drop('id', inplace=True, axis=1)\n",
        "df2.drop('id', inplace=True, axis=1)\n",
        "\n",
        "# Show one of them\n",
        "df.head()"
      ],
      "execution_count": null,
      "outputs": [
        {
          "execution_count": 7,
          "output_type": "execute_result",
          "data": {
            "text/plain": "   Gender      Customer Type  Age   Type of Travel     Class  Flight Distance  \\\n0    Male     Loyal Customer   13  Personal Travel  Eco Plus              460   \n1    Male  disloyal Customer   25  Business travel  Business              235   \n2  Female     Loyal Customer   26  Business travel  Business             1142   \n3  Female     Loyal Customer   25  Business travel  Business              562   \n4    Male     Loyal Customer   61  Business travel  Business              214   \n\n   Inflight wifi service  Departure/Arrival time convenient  \\\n0                      3                                  4   \n1                      3                                  2   \n2                      2                                  2   \n3                      2                                  5   \n4                      3                                  3   \n\n   Ease of Online booking  Gate location  ...  Inflight entertainment  \\\n0                       3              1  ...                       5   \n1                       3              3  ...                       1   \n2                       2              2  ...                       5   \n3                       5              5  ...                       2   \n4                       3              3  ...                       3   \n\n   On-board service  Leg room service  Baggage handling  Checkin service  \\\n0                 4                 3                 4                4   \n1                 1                 5                 3                1   \n2                 4                 3                 4                4   \n3                 2                 5                 3                1   \n4                 3                 4                 4                3   \n\n   Inflight service  Cleanliness  Departure Delay in Minutes  \\\n0                 5            5                          25   \n1                 4            1                           1   \n2                 4            5                           0   \n3                 4            2                          11   \n4                 3            3                           0   \n\n   Arrival Delay in Minutes             satisfaction  \n0                      18.0  neutral or dissatisfied  \n1                       6.0  neutral or dissatisfied  \n2                       0.0                satisfied  \n3                       9.0  neutral or dissatisfied  \n4                       0.0                satisfied  \n\n[5 rows x 23 columns]",
            "text/html": "<div>\n<style scoped>\n    .dataframe tbody tr th:only-of-type {\n        vertical-align: middle;\n    }\n\n    .dataframe tbody tr th {\n        vertical-align: top;\n    }\n\n    .dataframe thead th {\n        text-align: right;\n    }\n</style>\n<table border=\"1\" class=\"dataframe\">\n  <thead>\n    <tr style=\"text-align: right;\">\n      <th></th>\n      <th>Gender</th>\n      <th>Customer Type</th>\n      <th>Age</th>\n      <th>Type of Travel</th>\n      <th>Class</th>\n      <th>Flight Distance</th>\n      <th>Inflight wifi service</th>\n      <th>Departure/Arrival time convenient</th>\n      <th>Ease of Online booking</th>\n      <th>Gate location</th>\n      <th>...</th>\n      <th>Inflight entertainment</th>\n      <th>On-board service</th>\n      <th>Leg room service</th>\n      <th>Baggage handling</th>\n      <th>Checkin service</th>\n      <th>Inflight service</th>\n      <th>Cleanliness</th>\n      <th>Departure Delay in Minutes</th>\n      <th>Arrival Delay in Minutes</th>\n      <th>satisfaction</th>\n    </tr>\n  </thead>\n  <tbody>\n    <tr>\n      <th>0</th>\n      <td>Male</td>\n      <td>Loyal Customer</td>\n      <td>13</td>\n      <td>Personal Travel</td>\n      <td>Eco Plus</td>\n      <td>460</td>\n      <td>3</td>\n      <td>4</td>\n      <td>3</td>\n      <td>1</td>\n      <td>...</td>\n      <td>5</td>\n      <td>4</td>\n      <td>3</td>\n      <td>4</td>\n      <td>4</td>\n      <td>5</td>\n      <td>5</td>\n      <td>25</td>\n      <td>18.0</td>\n      <td>neutral or dissatisfied</td>\n    </tr>\n    <tr>\n      <th>1</th>\n      <td>Male</td>\n      <td>disloyal Customer</td>\n      <td>25</td>\n      <td>Business travel</td>\n      <td>Business</td>\n      <td>235</td>\n      <td>3</td>\n      <td>2</td>\n      <td>3</td>\n      <td>3</td>\n      <td>...</td>\n      <td>1</td>\n      <td>1</td>\n      <td>5</td>\n      <td>3</td>\n      <td>1</td>\n      <td>4</td>\n      <td>1</td>\n      <td>1</td>\n      <td>6.0</td>\n      <td>neutral or dissatisfied</td>\n    </tr>\n    <tr>\n      <th>2</th>\n      <td>Female</td>\n      <td>Loyal Customer</td>\n      <td>26</td>\n      <td>Business travel</td>\n      <td>Business</td>\n      <td>1142</td>\n      <td>2</td>\n      <td>2</td>\n      <td>2</td>\n      <td>2</td>\n      <td>...</td>\n      <td>5</td>\n      <td>4</td>\n      <td>3</td>\n      <td>4</td>\n      <td>4</td>\n      <td>4</td>\n      <td>5</td>\n      <td>0</td>\n      <td>0.0</td>\n      <td>satisfied</td>\n    </tr>\n    <tr>\n      <th>3</th>\n      <td>Female</td>\n      <td>Loyal Customer</td>\n      <td>25</td>\n      <td>Business travel</td>\n      <td>Business</td>\n      <td>562</td>\n      <td>2</td>\n      <td>5</td>\n      <td>5</td>\n      <td>5</td>\n      <td>...</td>\n      <td>2</td>\n      <td>2</td>\n      <td>5</td>\n      <td>3</td>\n      <td>1</td>\n      <td>4</td>\n      <td>2</td>\n      <td>11</td>\n      <td>9.0</td>\n      <td>neutral or dissatisfied</td>\n    </tr>\n    <tr>\n      <th>4</th>\n      <td>Male</td>\n      <td>Loyal Customer</td>\n      <td>61</td>\n      <td>Business travel</td>\n      <td>Business</td>\n      <td>214</td>\n      <td>3</td>\n      <td>3</td>\n      <td>3</td>\n      <td>3</td>\n      <td>...</td>\n      <td>3</td>\n      <td>3</td>\n      <td>4</td>\n      <td>4</td>\n      <td>3</td>\n      <td>3</td>\n      <td>3</td>\n      <td>0</td>\n      <td>0.0</td>\n      <td>satisfied</td>\n    </tr>\n  </tbody>\n</table>\n<p>5 rows × 23 columns</p>\n</div>"
          },
          "metadata": {}
        }
      ]
    },
    {
      "cell_type": "markdown",
      "metadata": {
        "id": "xqLeR5zrFsGV"
      },
      "source": [
        "As part of our preprocessing we want to check if our dataset has missing values."
      ]
    },
    {
      "cell_type": "code",
      "metadata": {
        "execution": {
          "iopub.status.busy": "2021-12-03T00:28:33.865983Z",
          "iopub.execute_input": "2021-12-03T00:28:33.866682Z",
          "iopub.status.idle": "2021-12-03T00:28:33.901092Z",
          "shell.execute_reply.started": "2021-12-03T00:28:33.866650Z",
          "shell.execute_reply": "2021-12-03T00:28:33.900165Z"
        },
        "trusted": true,
        "id": "FnOtcxSMFsGV",
        "outputId": "198449b4-4594-455f-9a9d-26ab4e1e5dd3"
      },
      "source": [
        "df.isnull().sum()"
      ],
      "execution_count": null,
      "outputs": [
        {
          "execution_count": 8,
          "output_type": "execute_result",
          "data": {
            "text/plain": "Gender                                 0\nCustomer Type                          0\nAge                                    0\nType of Travel                         0\nClass                                  0\nFlight Distance                        0\nInflight wifi service                  0\nDeparture/Arrival time convenient      0\nEase of Online booking                 0\nGate location                          0\nFood and drink                         0\nOnline boarding                        0\nSeat comfort                           0\nInflight entertainment                 0\nOn-board service                       0\nLeg room service                       0\nBaggage handling                       0\nCheckin service                        0\nInflight service                       0\nCleanliness                            0\nDeparture Delay in Minutes             0\nArrival Delay in Minutes             310\nsatisfaction                           0\ndtype: int64"
          },
          "metadata": {}
        }
      ]
    },
    {
      "cell_type": "code",
      "metadata": {
        "execution": {
          "iopub.status.busy": "2021-12-03T00:28:33.902276Z",
          "iopub.execute_input": "2021-12-03T00:28:33.902511Z",
          "iopub.status.idle": "2021-12-03T00:28:33.917544Z",
          "shell.execute_reply.started": "2021-12-03T00:28:33.902455Z",
          "shell.execute_reply": "2021-12-03T00:28:33.916685Z"
        },
        "trusted": true,
        "id": "rW5BTWILFsGV",
        "outputId": "fc2f5e8f-13ff-4285-b70c-d6e0ee879ed6"
      },
      "source": [
        "df2.isnull().sum()"
      ],
      "execution_count": null,
      "outputs": [
        {
          "execution_count": 9,
          "output_type": "execute_result",
          "data": {
            "text/plain": "Gender                                0\nCustomer Type                         0\nAge                                   0\nType of Travel                        0\nClass                                 0\nFlight Distance                       0\nInflight wifi service                 0\nDeparture/Arrival time convenient     0\nEase of Online booking                0\nGate location                         0\nFood and drink                        0\nOnline boarding                       0\nSeat comfort                          0\nInflight entertainment                0\nOn-board service                      0\nLeg room service                      0\nBaggage handling                      0\nCheckin service                       0\nInflight service                      0\nCleanliness                           0\nDeparture Delay in Minutes            0\nArrival Delay in Minutes             83\nsatisfaction                          0\ndtype: int64"
          },
          "metadata": {}
        }
      ]
    },
    {
      "cell_type": "markdown",
      "metadata": {
        "id": "VmVBj57lFsGW"
      },
      "source": [
        "No missing values belong to categorical features. Therefore we will handle them after handling the categorical features, so as not to switch our data back and forth from pandas to numpy arrays.\n",
        "\n",
        "Reading the dataset informaton we can deduce that we have some categorical features that are not compatible with the sklearn classifiers, so we use get_dummies to make them numerical. We also drop one of the columns that would be created since we have few distinct values (maximum 3) and the resulting columns would be highly correlated."
      ]
    },
    {
      "cell_type": "code",
      "metadata": {
        "execution": {
          "iopub.status.busy": "2021-12-03T00:28:33.918852Z",
          "iopub.execute_input": "2021-12-03T00:28:33.919140Z",
          "iopub.status.idle": "2021-12-03T00:28:33.973223Z",
          "shell.execute_reply.started": "2021-12-03T00:28:33.919112Z",
          "shell.execute_reply": "2021-12-03T00:28:33.972310Z"
        },
        "trusted": true,
        "id": "JftbFLm1FsGW",
        "outputId": "e7b38eed-0a5d-419d-d2ee-1eae41d75511"
      },
      "source": [
        "categorical = ['Gender', 'Customer Type', 'Type of Travel', 'Class', 'satisfaction']\n",
        "\n",
        "maxDistinct = 0\n",
        "for column in categorical:\n",
        "    distinctRows1 = df[column].nunique()\n",
        "    distinctRows2 = df2[column].nunique()\n",
        "    if distinctRows1 > maxDistinct:\n",
        "        maxDistinct = distinctRows1\n",
        "    if distinctRows2 > maxDistinct:\n",
        "        maxDistinct = distinctRows2\n",
        "\n",
        "print('The maximum number of distinct values of a categorical feature is', maxDistinct)"
      ],
      "execution_count": null,
      "outputs": [
        {
          "name": "stdout",
          "text": "The maximum number of distinct values of a categorical feature is 3\n",
          "output_type": "stream"
        }
      ]
    },
    {
      "cell_type": "code",
      "metadata": {
        "execution": {
          "iopub.status.busy": "2021-12-03T00:28:33.974466Z",
          "iopub.execute_input": "2021-12-03T00:28:33.975339Z",
          "iopub.status.idle": "2021-12-03T00:28:34.169444Z",
          "shell.execute_reply.started": "2021-12-03T00:28:33.975297Z",
          "shell.execute_reply": "2021-12-03T00:28:34.168531Z"
        },
        "trusted": true,
        "id": "rfMjUvh1FsGX",
        "outputId": "cb47f298-7be6-4058-a234-0c116c90f681"
      },
      "source": [
        "# Categorical to numerical in train set\n",
        "for column in categorical:\n",
        "    numerical = pd.get_dummies(df[column], drop_first=True)\n",
        "    df = pd.concat([df, numerical], axis=1)\n",
        "    df.drop(column, inplace=True, axis=1)\n",
        "\n",
        "df.head()"
      ],
      "execution_count": null,
      "outputs": [
        {
          "execution_count": 11,
          "output_type": "execute_result",
          "data": {
            "text/plain": "   Age  Flight Distance  Inflight wifi service  \\\n0   13              460                      3   \n1   25              235                      3   \n2   26             1142                      2   \n3   25              562                      2   \n4   61              214                      3   \n\n   Departure/Arrival time convenient  Ease of Online booking  Gate location  \\\n0                                  4                       3              1   \n1                                  2                       3              3   \n2                                  2                       2              2   \n3                                  5                       5              5   \n4                                  3                       3              3   \n\n   Food and drink  Online boarding  Seat comfort  Inflight entertainment  ...  \\\n0               5                3             5                       5  ...   \n1               1                3             1                       1  ...   \n2               5                5             5                       5  ...   \n3               2                2             2                       2  ...   \n4               4                5             5                       3  ...   \n\n   Inflight service  Cleanliness  Departure Delay in Minutes  \\\n0                 5            5                          25   \n1                 4            1                           1   \n2                 4            5                           0   \n3                 4            2                          11   \n4                 3            3                           0   \n\n   Arrival Delay in Minutes  Male  disloyal Customer  Personal Travel  Eco  \\\n0                      18.0     1                  0                1    0   \n1                       6.0     1                  1                0    0   \n2                       0.0     0                  0                0    0   \n3                       9.0     0                  0                0    0   \n4                       0.0     1                  0                0    0   \n\n   Eco Plus  satisfied  \n0         1          0  \n1         0          0  \n2         0          1  \n3         0          0  \n4         0          1  \n\n[5 rows x 24 columns]",
            "text/html": "<div>\n<style scoped>\n    .dataframe tbody tr th:only-of-type {\n        vertical-align: middle;\n    }\n\n    .dataframe tbody tr th {\n        vertical-align: top;\n    }\n\n    .dataframe thead th {\n        text-align: right;\n    }\n</style>\n<table border=\"1\" class=\"dataframe\">\n  <thead>\n    <tr style=\"text-align: right;\">\n      <th></th>\n      <th>Age</th>\n      <th>Flight Distance</th>\n      <th>Inflight wifi service</th>\n      <th>Departure/Arrival time convenient</th>\n      <th>Ease of Online booking</th>\n      <th>Gate location</th>\n      <th>Food and drink</th>\n      <th>Online boarding</th>\n      <th>Seat comfort</th>\n      <th>Inflight entertainment</th>\n      <th>...</th>\n      <th>Inflight service</th>\n      <th>Cleanliness</th>\n      <th>Departure Delay in Minutes</th>\n      <th>Arrival Delay in Minutes</th>\n      <th>Male</th>\n      <th>disloyal Customer</th>\n      <th>Personal Travel</th>\n      <th>Eco</th>\n      <th>Eco Plus</th>\n      <th>satisfied</th>\n    </tr>\n  </thead>\n  <tbody>\n    <tr>\n      <th>0</th>\n      <td>13</td>\n      <td>460</td>\n      <td>3</td>\n      <td>4</td>\n      <td>3</td>\n      <td>1</td>\n      <td>5</td>\n      <td>3</td>\n      <td>5</td>\n      <td>5</td>\n      <td>...</td>\n      <td>5</td>\n      <td>5</td>\n      <td>25</td>\n      <td>18.0</td>\n      <td>1</td>\n      <td>0</td>\n      <td>1</td>\n      <td>0</td>\n      <td>1</td>\n      <td>0</td>\n    </tr>\n    <tr>\n      <th>1</th>\n      <td>25</td>\n      <td>235</td>\n      <td>3</td>\n      <td>2</td>\n      <td>3</td>\n      <td>3</td>\n      <td>1</td>\n      <td>3</td>\n      <td>1</td>\n      <td>1</td>\n      <td>...</td>\n      <td>4</td>\n      <td>1</td>\n      <td>1</td>\n      <td>6.0</td>\n      <td>1</td>\n      <td>1</td>\n      <td>0</td>\n      <td>0</td>\n      <td>0</td>\n      <td>0</td>\n    </tr>\n    <tr>\n      <th>2</th>\n      <td>26</td>\n      <td>1142</td>\n      <td>2</td>\n      <td>2</td>\n      <td>2</td>\n      <td>2</td>\n      <td>5</td>\n      <td>5</td>\n      <td>5</td>\n      <td>5</td>\n      <td>...</td>\n      <td>4</td>\n      <td>5</td>\n      <td>0</td>\n      <td>0.0</td>\n      <td>0</td>\n      <td>0</td>\n      <td>0</td>\n      <td>0</td>\n      <td>0</td>\n      <td>1</td>\n    </tr>\n    <tr>\n      <th>3</th>\n      <td>25</td>\n      <td>562</td>\n      <td>2</td>\n      <td>5</td>\n      <td>5</td>\n      <td>5</td>\n      <td>2</td>\n      <td>2</td>\n      <td>2</td>\n      <td>2</td>\n      <td>...</td>\n      <td>4</td>\n      <td>2</td>\n      <td>11</td>\n      <td>9.0</td>\n      <td>0</td>\n      <td>0</td>\n      <td>0</td>\n      <td>0</td>\n      <td>0</td>\n      <td>0</td>\n    </tr>\n    <tr>\n      <th>4</th>\n      <td>61</td>\n      <td>214</td>\n      <td>3</td>\n      <td>3</td>\n      <td>3</td>\n      <td>3</td>\n      <td>4</td>\n      <td>5</td>\n      <td>5</td>\n      <td>3</td>\n      <td>...</td>\n      <td>3</td>\n      <td>3</td>\n      <td>0</td>\n      <td>0.0</td>\n      <td>1</td>\n      <td>0</td>\n      <td>0</td>\n      <td>0</td>\n      <td>0</td>\n      <td>1</td>\n    </tr>\n  </tbody>\n</table>\n<p>5 rows × 24 columns</p>\n</div>"
          },
          "metadata": {}
        }
      ]
    },
    {
      "cell_type": "code",
      "metadata": {
        "execution": {
          "iopub.status.busy": "2021-12-03T00:28:34.170720Z",
          "iopub.execute_input": "2021-12-03T00:28:34.170999Z",
          "iopub.status.idle": "2021-12-03T00:28:34.232821Z",
          "shell.execute_reply.started": "2021-12-03T00:28:34.170969Z",
          "shell.execute_reply": "2021-12-03T00:28:34.231928Z"
        },
        "trusted": true,
        "id": "jLBO6fGEFsGY",
        "outputId": "c60a6686-8bae-482e-8f95-2d2c048f35bf"
      },
      "source": [
        "# Categorical to numerical in test set\n",
        "for column in categorical:\n",
        "    numerical = pd.get_dummies(df2[column], drop_first=True)\n",
        "    df2 = pd.concat([df2, numerical], axis=1)\n",
        "    df2.drop([column], inplace=True, axis=1)\n",
        "\n",
        "df2.head()"
      ],
      "execution_count": null,
      "outputs": [
        {
          "execution_count": 12,
          "output_type": "execute_result",
          "data": {
            "text/plain": "   Age  Flight Distance  Inflight wifi service  \\\n0   52              160                      5   \n1   36             2863                      1   \n2   20              192                      2   \n3   44             3377                      0   \n4   49             1182                      2   \n\n   Departure/Arrival time convenient  Ease of Online booking  Gate location  \\\n0                                  4                       3              4   \n1                                  1                       3              1   \n2                                  0                       2              4   \n3                                  0                       0              2   \n4                                  3                       4              3   \n\n   Food and drink  Online boarding  Seat comfort  Inflight entertainment  ...  \\\n0               3                4             3                       5  ...   \n1               5                4             5                       4  ...   \n2               2                2             2                       2  ...   \n3               3                4             4                       1  ...   \n4               4                1             2                       2  ...   \n\n   Inflight service  Cleanliness  Departure Delay in Minutes  \\\n0                 5            5                          50   \n1                 4            5                           0   \n2                 2            2                           0   \n3                 1            4                           0   \n4                 2            4                           0   \n\n   Arrival Delay in Minutes  Male  disloyal Customer  Personal Travel  Eco  \\\n0                      44.0     0                  0                0    1   \n1                       0.0     0                  0                0    0   \n2                       0.0     1                  1                0    1   \n3                       6.0     1                  0                0    0   \n4                      20.0     0                  0                0    1   \n\n   Eco Plus  satisfied  \n0         0          1  \n1         0          1  \n2         0          0  \n3         0          1  \n4         0          1  \n\n[5 rows x 24 columns]",
            "text/html": "<div>\n<style scoped>\n    .dataframe tbody tr th:only-of-type {\n        vertical-align: middle;\n    }\n\n    .dataframe tbody tr th {\n        vertical-align: top;\n    }\n\n    .dataframe thead th {\n        text-align: right;\n    }\n</style>\n<table border=\"1\" class=\"dataframe\">\n  <thead>\n    <tr style=\"text-align: right;\">\n      <th></th>\n      <th>Age</th>\n      <th>Flight Distance</th>\n      <th>Inflight wifi service</th>\n      <th>Departure/Arrival time convenient</th>\n      <th>Ease of Online booking</th>\n      <th>Gate location</th>\n      <th>Food and drink</th>\n      <th>Online boarding</th>\n      <th>Seat comfort</th>\n      <th>Inflight entertainment</th>\n      <th>...</th>\n      <th>Inflight service</th>\n      <th>Cleanliness</th>\n      <th>Departure Delay in Minutes</th>\n      <th>Arrival Delay in Minutes</th>\n      <th>Male</th>\n      <th>disloyal Customer</th>\n      <th>Personal Travel</th>\n      <th>Eco</th>\n      <th>Eco Plus</th>\n      <th>satisfied</th>\n    </tr>\n  </thead>\n  <tbody>\n    <tr>\n      <th>0</th>\n      <td>52</td>\n      <td>160</td>\n      <td>5</td>\n      <td>4</td>\n      <td>3</td>\n      <td>4</td>\n      <td>3</td>\n      <td>4</td>\n      <td>3</td>\n      <td>5</td>\n      <td>...</td>\n      <td>5</td>\n      <td>5</td>\n      <td>50</td>\n      <td>44.0</td>\n      <td>0</td>\n      <td>0</td>\n      <td>0</td>\n      <td>1</td>\n      <td>0</td>\n      <td>1</td>\n    </tr>\n    <tr>\n      <th>1</th>\n      <td>36</td>\n      <td>2863</td>\n      <td>1</td>\n      <td>1</td>\n      <td>3</td>\n      <td>1</td>\n      <td>5</td>\n      <td>4</td>\n      <td>5</td>\n      <td>4</td>\n      <td>...</td>\n      <td>4</td>\n      <td>5</td>\n      <td>0</td>\n      <td>0.0</td>\n      <td>0</td>\n      <td>0</td>\n      <td>0</td>\n      <td>0</td>\n      <td>0</td>\n      <td>1</td>\n    </tr>\n    <tr>\n      <th>2</th>\n      <td>20</td>\n      <td>192</td>\n      <td>2</td>\n      <td>0</td>\n      <td>2</td>\n      <td>4</td>\n      <td>2</td>\n      <td>2</td>\n      <td>2</td>\n      <td>2</td>\n      <td>...</td>\n      <td>2</td>\n      <td>2</td>\n      <td>0</td>\n      <td>0.0</td>\n      <td>1</td>\n      <td>1</td>\n      <td>0</td>\n      <td>1</td>\n      <td>0</td>\n      <td>0</td>\n    </tr>\n    <tr>\n      <th>3</th>\n      <td>44</td>\n      <td>3377</td>\n      <td>0</td>\n      <td>0</td>\n      <td>0</td>\n      <td>2</td>\n      <td>3</td>\n      <td>4</td>\n      <td>4</td>\n      <td>1</td>\n      <td>...</td>\n      <td>1</td>\n      <td>4</td>\n      <td>0</td>\n      <td>6.0</td>\n      <td>1</td>\n      <td>0</td>\n      <td>0</td>\n      <td>0</td>\n      <td>0</td>\n      <td>1</td>\n    </tr>\n    <tr>\n      <th>4</th>\n      <td>49</td>\n      <td>1182</td>\n      <td>2</td>\n      <td>3</td>\n      <td>4</td>\n      <td>3</td>\n      <td>4</td>\n      <td>1</td>\n      <td>2</td>\n      <td>2</td>\n      <td>...</td>\n      <td>2</td>\n      <td>4</td>\n      <td>0</td>\n      <td>20.0</td>\n      <td>0</td>\n      <td>0</td>\n      <td>0</td>\n      <td>1</td>\n      <td>0</td>\n      <td>1</td>\n    </tr>\n  </tbody>\n</table>\n<p>5 rows × 24 columns</p>\n</div>"
          },
          "metadata": {}
        }
      ]
    },
    {
      "cell_type": "code",
      "metadata": {
        "execution": {
          "iopub.status.busy": "2021-12-03T00:28:34.234186Z",
          "iopub.execute_input": "2021-12-03T00:28:34.234433Z",
          "iopub.status.idle": "2021-12-03T00:28:34.242132Z",
          "shell.execute_reply.started": "2021-12-03T00:28:34.234407Z",
          "shell.execute_reply": "2021-12-03T00:28:34.241474Z"
        },
        "trusted": true,
        "id": "ctRR2-9UFsGY"
      },
      "source": [
        "# Convert pandas to numpy array for processing\n",
        "train = df.values\n",
        "test = df2.values"
      ],
      "execution_count": null,
      "outputs": []
    },
    {
      "cell_type": "markdown",
      "metadata": {
        "id": "JX4ywdPHFsGZ"
      },
      "source": [
        "We will fill our missing values for \"Arrival Delay in Minutes\" using the mean value of our training dataset for that feature. The same value will be used to fill the missing values of the test set as well."
      ]
    },
    {
      "cell_type": "code",
      "metadata": {
        "execution": {
          "iopub.status.busy": "2021-12-03T00:28:34.243161Z",
          "iopub.execute_input": "2021-12-03T00:28:34.243816Z",
          "iopub.status.idle": "2021-12-03T00:28:34.522913Z",
          "shell.execute_reply.started": "2021-12-03T00:28:34.243776Z",
          "shell.execute_reply": "2021-12-03T00:28:34.522097Z"
        },
        "trusted": true,
        "id": "ympCZd6wFsGZ",
        "outputId": "a22d3aaa-056b-440a-f214-b3c18df4195d"
      },
      "source": [
        "# Use imputer to replace our missing values with the mean of the corresponding column of train dataset\n",
        "from sklearn.impute import SimpleImputer\n",
        "\n",
        "imputer = SimpleImputer(missing_values=np.nan, strategy='mean')\n",
        "train = imputer.fit_transform(train)\n",
        "test = imputer.transform(test)\n",
        "\n",
        "count = 0 \n",
        "\n",
        "samples = train.shape[0]\n",
        "for i in range(samples):\n",
        "    if np.isnan(train[i,17]):\n",
        "        count += 1\n",
        "        \n",
        "print(count, \"missing values\")"
      ],
      "execution_count": null,
      "outputs": [
        {
          "name": "stdout",
          "text": "0 missing values\n",
          "output_type": "stream"
        }
      ]
    },
    {
      "cell_type": "code",
      "metadata": {
        "execution": {
          "iopub.status.busy": "2021-12-03T00:28:34.524799Z",
          "iopub.execute_input": "2021-12-03T00:28:34.525123Z",
          "iopub.status.idle": "2021-12-03T00:28:34.538097Z",
          "shell.execute_reply.started": "2021-12-03T00:28:34.525072Z",
          "shell.execute_reply": "2021-12-03T00:28:34.537086Z"
        },
        "trusted": true,
        "id": "CRGc57ELFsGa",
        "outputId": "54c5f288-02ee-4cc5-bf3a-2d56146d8b5e"
      },
      "source": [
        "# Seperate labels from features. Label is our last column\n",
        "idx_of_label = train.shape[1] - 1\n",
        "\n",
        "X_train =  train[:, :idx_of_label]\n",
        "y_train = train[:, idx_of_label]\n",
        "\n",
        "X_test =  test[:, :idx_of_label]\n",
        "y_test = test[:, idx_of_label]\n",
        "\n",
        "# Final data shapes\n",
        "print(X_train.shape)\n",
        "print(y_train.shape)"
      ],
      "execution_count": null,
      "outputs": [
        {
          "name": "stdout",
          "text": "(103904, 23)\n(103904,)\n",
          "output_type": "stream"
        }
      ]
    },
    {
      "cell_type": "markdown",
      "metadata": {
        "id": "_4YgK98QFsGb"
      },
      "source": [
        "# Classifiers"
      ]
    },
    {
      "cell_type": "markdown",
      "metadata": {
        "id": "d0MR8FQkFsGc"
      },
      "source": [
        "We choose accuracy as a metric, because we consider a wrong prediction equally important whether it is a false negative or a false positive. A false positive means we classified a customer as satisfied although he wasn't, which means we will not take steps towards improving our services. A false negative means we classified a customer as dissatisfied (or neutral) when in fact he was satisfied, which means we might proceed to upgrade our services more than we need to and waste money.\n",
        "Either way, a misclassification of either category isn't particularly harmful and therefore we decide accuracy is a reasonable metric for our problem."
      ]
    },
    {
      "cell_type": "code",
      "metadata": {
        "execution": {
          "iopub.status.busy": "2021-12-03T00:28:34.540734Z",
          "iopub.execute_input": "2021-12-03T00:28:34.541108Z",
          "iopub.status.idle": "2021-12-03T00:28:34.550419Z",
          "shell.execute_reply.started": "2021-12-03T00:28:34.541063Z",
          "shell.execute_reply": "2021-12-03T00:28:34.549480Z"
        },
        "trusted": true,
        "id": "HvHz-loMFsGd"
      },
      "source": [
        "from sklearn.metrics import accuracy_score"
      ],
      "execution_count": null,
      "outputs": []
    },
    {
      "cell_type": "markdown",
      "metadata": {
        "id": "vi0M0eYJFsGd"
      },
      "source": [
        "## Out-of-the-box performance"
      ]
    },
    {
      "cell_type": "code",
      "metadata": {
        "execution": {
          "iopub.status.busy": "2021-12-03T00:28:34.552040Z",
          "iopub.execute_input": "2021-12-03T00:28:34.552348Z",
          "iopub.status.idle": "2021-12-03T00:28:34.560124Z",
          "shell.execute_reply.started": "2021-12-03T00:28:34.552309Z",
          "shell.execute_reply": "2021-12-03T00:28:34.559445Z"
        },
        "trusted": true,
        "id": "BTaCQ4czFsGd"
      },
      "source": [
        "import time\n",
        "import math\n",
        "\n",
        "# Save the results here\n",
        "out_of_the_box_results = np.empty(shape=(3, ))"
      ],
      "execution_count": null,
      "outputs": []
    },
    {
      "cell_type": "markdown",
      "metadata": {
        "id": "vnGyBSJ4FsGd"
      },
      "source": [
        "### Dummy"
      ]
    },
    {
      "cell_type": "markdown",
      "metadata": {
        "id": "3Dlq8L5xFsGe"
      },
      "source": [
        "Dummy classifier is included as baseline for the rest of our classifiers."
      ]
    },
    {
      "cell_type": "code",
      "metadata": {
        "execution": {
          "iopub.status.busy": "2021-12-03T00:28:34.561148Z",
          "iopub.execute_input": "2021-12-03T00:28:34.561823Z",
          "iopub.status.idle": "2021-12-03T00:28:34.590561Z",
          "shell.execute_reply.started": "2021-12-03T00:28:34.561791Z",
          "shell.execute_reply": "2021-12-03T00:28:34.589647Z"
        },
        "trusted": true,
        "id": "UusmZ3haFsGe",
        "outputId": "52c19c7d-c0e7-4f4d-ab1a-7ba63c458e27"
      },
      "source": [
        "from sklearn.dummy import DummyClassifier\n",
        "\n",
        "# Ignore warnings\n",
        "import warnings \n",
        "warnings.filterwarnings('ignore')\n",
        "\n",
        "clf = DummyClassifier()\n",
        "\n",
        "fit_start = time.time()\n",
        "clf.fit(X_train, y_train)\n",
        "fit_end = time.time() \n",
        "\n",
        "predict_start = time.time()\n",
        "preds = clf.predict(X_test)\n",
        "predict_end = time.time()\n",
        "\n",
        "acc = accuracy_score(y_test, preds) * 100\n",
        "out_of_the_box_results[0] = acc\n",
        "\n",
        "fit_time = math.ceil(fit_end - fit_start)\n",
        "predict_time = math.ceil(predict_end - predict_start)\n",
        "\n",
        "print('Out-of-the-box dummy classifier')\n",
        "print('Fit time: {} min {} sec'.format(fit_time // 60, fit_time % 60))\n",
        "print('Predict time: {} min {} sec'.format(predict_time // 60, predict_time % 60))\n",
        "print('Total time: {} min {} sec'.format( (fit_time + predict_time) // 60, (fit_time + predict_time) % 60 ))\n",
        "print('Accuracy: {:.2f} %'.format(acc))"
      ],
      "execution_count": null,
      "outputs": [
        {
          "name": "stdout",
          "text": "Out-of-the-box dummy classifier\nFit time: 0 min 1 sec\nPredict time: 0 min 1 sec\nTotal time: 0 min 2 sec\nAccuracy: 50.77 %\n",
          "output_type": "stream"
        }
      ]
    },
    {
      "cell_type": "markdown",
      "metadata": {
        "id": "-dZDyDxuFsGf"
      },
      "source": [
        "### Multi-Layer Perceptron"
      ]
    },
    {
      "cell_type": "markdown",
      "metadata": {
        "id": "zsdabIvmFsGf"
      },
      "source": [
        "MLPs include at least 3 layers: an input layer, one or more hidden layers and an output layer. All the layers besides the input layer are made up of neurons with a non-linear activation function (eg RELU or sigmoid). MLP networks use backpropagation and stochastic gradient descent to find the local minima and train the model."
      ]
    },
    {
      "cell_type": "code",
      "metadata": {
        "execution": {
          "iopub.status.busy": "2021-12-03T00:28:34.591955Z",
          "iopub.execute_input": "2021-12-03T00:28:34.592674Z",
          "iopub.status.idle": "2021-12-03T00:29:13.974699Z",
          "shell.execute_reply.started": "2021-12-03T00:28:34.592627Z",
          "shell.execute_reply": "2021-12-03T00:29:13.971853Z"
        },
        "trusted": true,
        "id": "gGuWvPoLFsGg",
        "outputId": "1173523d-fb3c-48d7-9885-541e3c1ee971"
      },
      "source": [
        "from sklearn.neural_network import MLPClassifier\n",
        "\n",
        "clf = MLPClassifier()\n",
        "\n",
        "fit_start = time.time()\n",
        "clf.fit(X_train, y_train)\n",
        "fit_end = time.time() \n",
        "\n",
        "predict_start = time.time()\n",
        "preds = clf.predict(X_test)\n",
        "predict_end = time.time()\n",
        "\n",
        "acc = accuracy_score(y_test, preds) * 100\n",
        "out_of_the_box_results[1] = acc\n",
        "\n",
        "fit_time = math.ceil(fit_end - fit_start)\n",
        "predict_time = math.ceil(predict_end - predict_start)\n",
        "                    \n",
        "print('Out-of-the-box MLP classifier')\n",
        "print('Fit time: {} min {} sec'.format(fit_time // 60, fit_time % 60))\n",
        "print('Predict time: {} min {} sec'.format(predict_time // 60, predict_time % 60))\n",
        "print('Total time: {} min {} sec'.format( (fit_time + predict_time) // 60, (fit_time + predict_time) % 60 ))\n",
        "print('Accuracy: {:.2f} %'.format(acc))"
      ],
      "execution_count": null,
      "outputs": [
        {
          "name": "stdout",
          "text": "Out-of-the-box MLP classifier\nFit time: 0 min 40 sec\nPredict time: 0 min 1 sec\nTotal time: 0 min 41 sec\nAccuracy: 93.36 %\n",
          "output_type": "stream"
        }
      ]
    },
    {
      "cell_type": "markdown",
      "metadata": {
        "id": "ORjiCrb2FsGh"
      },
      "source": [
        "### Support Vector Machines"
      ]
    },
    {
      "cell_type": "markdown",
      "metadata": {
        "id": "7IAnAPd9FsGh"
      },
      "source": [
        "SVMs are models that \"draw\" lines or hyperplanes (based on the training set) to determine which class any new test sample belongs to. The lines or hyperplanes are created so as to maximize the distance between them and the training samples. Linear SVMs are used to solve linearly separable problems whereas for more complex problems SVMs that utilize rbf kernels and augment the dimensionality of the problem are used instead."
      ]
    },
    {
      "cell_type": "code",
      "metadata": {
        "execution": {
          "iopub.status.busy": "2021-12-03T00:29:13.976327Z",
          "iopub.execute_input": "2021-12-03T00:29:13.976690Z",
          "iopub.status.idle": "2021-12-03T00:46:42.985123Z",
          "shell.execute_reply.started": "2021-12-03T00:29:13.976644Z",
          "shell.execute_reply": "2021-12-03T00:46:42.983761Z"
        },
        "trusted": true,
        "id": "w2Hc8LMrFsGi",
        "outputId": "876967f6-d45a-4275-eb00-6b2f4eddff57"
      },
      "source": [
        "from sklearn.svm import SVC # \"Support vector classifier\"\n",
        "\n",
        "clf = SVC()\n",
        "\n",
        "fit_start = time.time()\n",
        "clf.fit(X_train, y_train)\n",
        "fit_end = time.time() \n",
        "\n",
        "predict_start = time.time()\n",
        "preds = clf.predict(X_test)\n",
        "predict_end = time.time()\n",
        "\n",
        "acc = accuracy_score(y_test, preds) * 100\n",
        "out_of_the_box_results[2] = acc\n",
        "\n",
        "fit_time = math.ceil(fit_end - fit_start)\n",
        "predict_time = math.ceil(predict_end - predict_start)\n",
        "\n",
        "print('Out-of-the-box SVM classifier')\n",
        "print('Fit time: {} min {} sec'.format(fit_time // 60, fit_time % 60))\n",
        "print('Predict time: {} min {} sec'.format(predict_time // 60, predict_time % 60))\n",
        "print('Total time: {} min {} sec'.format( (fit_time + predict_time) // 60, (fit_time + predict_time) % 60 ))\n",
        "print('Accuracy: {:.2f} %'.format(acc))"
      ],
      "execution_count": null,
      "outputs": [
        {
          "name": "stdout",
          "text": "Out-of-the-box SVM classifier\nFit time: 15 min 50 sec\nPredict time: 1 min 40 sec\nTotal time: 17 min 30 sec\nAccuracy: 67.00 %\n",
          "output_type": "stream"
        }
      ]
    },
    {
      "cell_type": "code",
      "metadata": {
        "execution": {
          "iopub.status.busy": "2021-12-03T00:46:43.000433Z",
          "iopub.execute_input": "2021-12-03T00:46:43.001497Z",
          "iopub.status.idle": "2021-12-03T00:46:43.022778Z",
          "shell.execute_reply.started": "2021-12-03T00:46:43.001454Z",
          "shell.execute_reply": "2021-12-03T00:46:43.021973Z"
        },
        "trusted": true,
        "id": "pbjwm44HFsGi",
        "outputId": "d283a2ea-2426-4417-b3ae-3fe4e4a22587"
      },
      "source": [
        "out_of_the_box_df = pd.DataFrame(out_of_the_box_results,\n",
        "                                 ['Dummy','MLP', 'SVM'],\n",
        "                                 ['Accuracy'])\n",
        "out_of_the_box_df"
      ],
      "execution_count": null,
      "outputs": [
        {
          "execution_count": 21,
          "output_type": "execute_result",
          "data": {
            "text/plain": "        Accuracy\nDummy  50.769941\nMLP    93.359255\nSVM    67.004158",
            "text/html": "<div>\n<style scoped>\n    .dataframe tbody tr th:only-of-type {\n        vertical-align: middle;\n    }\n\n    .dataframe tbody tr th {\n        vertical-align: top;\n    }\n\n    .dataframe thead th {\n        text-align: right;\n    }\n</style>\n<table border=\"1\" class=\"dataframe\">\n  <thead>\n    <tr style=\"text-align: right;\">\n      <th></th>\n      <th>Accuracy</th>\n    </tr>\n  </thead>\n  <tbody>\n    <tr>\n      <th>Dummy</th>\n      <td>50.769941</td>\n    </tr>\n    <tr>\n      <th>MLP</th>\n      <td>93.359255</td>\n    </tr>\n    <tr>\n      <th>SVM</th>\n      <td>67.004158</td>\n    </tr>\n  </tbody>\n</table>\n</div>"
          },
          "metadata": {}
        }
      ]
    },
    {
      "cell_type": "markdown",
      "metadata": {
        "id": "_duf3xmLFsGj"
      },
      "source": [
        "We use a bar-plot to better visualize our results."
      ]
    },
    {
      "cell_type": "code",
      "metadata": {
        "execution": {
          "iopub.status.busy": "2021-12-03T00:46:43.024143Z",
          "iopub.execute_input": "2021-12-03T00:46:43.024581Z",
          "iopub.status.idle": "2021-12-03T00:46:43.244590Z",
          "shell.execute_reply.started": "2021-12-03T00:46:43.024543Z",
          "shell.execute_reply": "2021-12-03T00:46:43.243814Z"
        },
        "trusted": true,
        "id": "aJJuONJMFsGj",
        "outputId": "e1356f3a-7533-45b6-f9b8-bb6656d9380f"
      },
      "source": [
        "import matplotlib.pyplot as plt\n",
        "\n",
        "x = ['Dummy','MLP', 'SVM']\n",
        "x_axis = np.arange(len(x))\n",
        "plt.figure(figsize=(10, 5))\n",
        "\n",
        "plt.bar(x_axis, out_of_the_box_results, 0.2)\n",
        "plt.xticks(x_axis, x)\n",
        "plt.xlabel('Classifiers')\n",
        "plt.ylabel('Accuracy')\n",
        "plt.title('Out-of-the-box metrics')\n",
        "plt.show()"
      ],
      "execution_count": null,
      "outputs": [
        {
          "output_type": "display_data",
          "data": {
            "text/plain": "<Figure size 720x360 with 1 Axes>",
            "image/png": "[encoded data removed]"
          },
          "metadata": {
            "needs_background": "light"
          }
        }
      ]
    },
    {
      "cell_type": "markdown",
      "metadata": {
        "id": "Lh5bA-HSFsGk"
      },
      "source": [
        "We can see that our out-of-the-box MLP classifier is by far the best classifier of the 3 with a very good accuracy score of 92.51%. It even needs much less time compared to the SVM model."
      ]
    },
    {
      "cell_type": "markdown",
      "metadata": {
        "id": "5JLtRNaFFsGk"
      },
      "source": [
        "## Optimization"
      ]
    },
    {
      "cell_type": "markdown",
      "metadata": {
        "id": "48prxyG5FsGk"
      },
      "source": [
        "Due to the very large volume of data we have to make some decisions based on the dataset that will minimize the number of pipeline architectures that we have to test (Kaggle sessions expire after a certain amount as well).\n"
      ]
    },
    {
      "cell_type": "code",
      "metadata": {
        "execution": {
          "iopub.status.busy": "2021-12-03T00:46:43.246219Z",
          "iopub.execute_input": "2021-12-03T00:46:43.246739Z",
          "iopub.status.idle": "2021-12-03T00:46:43.314470Z",
          "shell.execute_reply.started": "2021-12-03T00:46:43.246669Z",
          "shell.execute_reply": "2021-12-03T00:46:43.313634Z"
        },
        "trusted": true,
        "id": "CfcQ9IVBFsGk",
        "outputId": "61be4a36-c7b2-40b1-80b2-e74a11da0817"
      },
      "source": [
        "train_variance = X_train.var(axis=0)\n",
        "print('The variance of our features is:', train_variance)"
      ],
      "execution_count": null,
      "outputs": [
        {
          "name": "stdout",
          "text": "The variance of our features is: [2.28459929e+02 9.94293130e+05 1.76311414e+00 2.32583197e+00\n 1.95698483e+00 1.63229974e+00 1.76764022e+00 1.82115689e+00\n 1.73997514e+00 1.77684714e+00 1.65984098e+00 1.73079886e+00\n 1.39451944e+00 1.60121119e+00 1.38217027e+00 1.72204345e+00\n 1.46158769e+03 1.49310549e+03 2.49944366e-01 1.49306902e-01\n 2.14041615e-01 2.47488630e-01 6.69223584e-02]\n",
          "output_type": "stream"
        }
      ]
    },
    {
      "cell_type": "markdown",
      "metadata": {
        "id": "mAVmWE4wFsGk"
      },
      "source": [
        "We have some very small variances so we will experiment with a selector to ignore those features.\n"
      ]
    },
    {
      "cell_type": "code",
      "metadata": {
        "execution": {
          "iopub.status.busy": "2021-12-03T00:46:43.315815Z",
          "iopub.execute_input": "2021-12-03T00:46:43.316298Z",
          "iopub.status.idle": "2021-12-03T00:46:43.324223Z",
          "shell.execute_reply.started": "2021-12-03T00:46:43.316257Z",
          "shell.execute_reply": "2021-12-03T00:46:43.323095Z"
        },
        "trusted": true,
        "id": "lJAvdh_uFsGl",
        "outputId": "7fd23385-6c34-4dc9-d5ee-431181fcad80"
      },
      "source": [
        "no_of_satisfied = np.sum(y_train, axis=0)\n",
        "samples = y_train.shape[0]\n",
        "print('The percentage of satisfied customers is: {:.2f} %'.format((no_of_satisfied / samples) * 100))\n",
        "print('The percentage of dissatisfied customers is: {:.2f} %'.format((1 - (no_of_satisfied / samples)) * 100))"
      ],
      "execution_count": null,
      "outputs": [
        {
          "name": "stdout",
          "text": "The percentage of satisfied customers is: 43.33 %\nThe percentage of dissatisfied customers is: 56.67 %\n",
          "output_type": "stream"
        }
      ]
    },
    {
      "cell_type": "markdown",
      "metadata": {
        "id": "-Qj-SRZOFsGl"
      },
      "source": [
        "We can conclude that the data is quite balanced and do not require any special treatment or resampling.\n",
        "\n",
        "We will also normalize our dataset using a Standard Scaler, which we know pairs well with MLPs and handles outliers decently too.\n",
        "\n",
        "Finally, the number of samples we have is much greater than the number of features, so our 23 features shouldn't pose a problem. Nevertheless, we will experiment with using a VarianceThreshold selector as well as a PCA dimensionality reduction method."
      ]
    },
    {
      "cell_type": "code",
      "metadata": {
        "execution": {
          "iopub.status.busy": "2021-12-03T00:46:43.325921Z",
          "iopub.execute_input": "2021-12-03T00:46:43.326483Z",
          "iopub.status.idle": "2021-12-03T00:46:45.367639Z",
          "shell.execute_reply.started": "2021-12-03T00:46:43.326440Z",
          "shell.execute_reply": "2021-12-03T00:46:45.366853Z"
        },
        "trusted": true,
        "id": "TNijY2XLFsGl"
      },
      "source": [
        "from imblearn.pipeline import Pipeline\n",
        "from sklearn.feature_selection import VarianceThreshold\n",
        "from sklearn.preprocessing import StandardScaler\n",
        "from sklearn.decomposition import PCA\n",
        "from sklearn.model_selection import GridSearchCV\n",
        "from tune_sklearn import TuneGridSearchCV\n",
        "import logging\n",
        "\n",
        "selector = VarianceThreshold()\n",
        "scaler = StandardScaler()\n",
        "pca = PCA()\n",
        "\n",
        "# These are the pipeline architectures I want to test out and optimize\n",
        "# Afterwards, I will find the best of all of the optimized ones\n",
        "steps = [\n",
        "    [],\n",
        "    [('selector', selector)],\n",
        "    [('scaler', scaler)],\n",
        "    [('pca', pca)],\n",
        "    [('selector', selector), ('scaler', scaler)],\n",
        "    [('selector', selector), ('pca', pca)],\n",
        "    [('scaler', scaler), ('pca', pca)],\n",
        "    [('selector', selector), ('scaler', scaler), ('pca', pca)]\n",
        "]\n",
        "\n",
        "# Creating the grid of values that Ι will use to optimize the above architectures\n",
        "vthreshold = [0, 0.1, 1]\n",
        "n_components = [5, 10, 15]\n",
        "tf = [True, False]\n",
        "\n",
        "logger = logging.getLogger('ray.tune')\n",
        "logger.setLevel('CRITICAL')"
      ],
      "execution_count": null,
      "outputs": []
    },
    {
      "cell_type": "markdown",
      "metadata": {
        "id": "wQG3BYlfFsGm"
      },
      "source": [
        "Because our sample volume is very large and SVM classifier needs quadratic time over the number of samples we decided to sample our dataset to greatly reduce the time needed to train our SVM model. We used only a fraction of ~5,000 samples to find out our best estimator for the problem. We will use the same samples to train our MLP model too, to earn a more fair comparison."
      ]
    },
    {
      "cell_type": "code",
      "metadata": {
        "execution": {
          "iopub.status.busy": "2021-12-03T00:46:45.369187Z",
          "iopub.execute_input": "2021-12-03T00:46:45.369609Z",
          "iopub.status.idle": "2021-12-03T00:46:45.425125Z",
          "shell.execute_reply.started": "2021-12-03T00:46:45.369563Z",
          "shell.execute_reply": "2021-12-03T00:46:45.424062Z"
        },
        "trusted": true,
        "id": "jHzXgKq_FsGm",
        "outputId": "cdffb6af-b177-4cdd-96fa-e01966fa8aa3"
      },
      "source": [
        "from sklearn.model_selection import StratifiedShuffleSplit\n",
        "\n",
        "sss = StratifiedShuffleSplit(n_splits=1, train_size=0.05, random_state=0)\n",
        "sss.get_n_splits(X_train, y_train)\n",
        "\n",
        "X = X_train\n",
        "y = y_train\n",
        "\n",
        "for train_index, test_index in sss.split(X, y):\n",
        "    X_new_train = X[train_index]\n",
        "    y_new_train = y[train_index]\n",
        "    print('My new array shapes are:')\n",
        "    print(X_new_train.shape)\n",
        "    print(y_new_train.shape)"
      ],
      "execution_count": null,
      "outputs": [
        {
          "name": "stdout",
          "text": "My new array shapes are:\n(5195, 23)\n(5195,)\n",
          "output_type": "stream"
        }
      ]
    },
    {
      "cell_type": "markdown",
      "metadata": {
        "id": "OMPXVLV5FsGm"
      },
      "source": [
        "We confirm that we still have the same balance of classes in our new training dataset."
      ]
    },
    {
      "cell_type": "code",
      "metadata": {
        "execution": {
          "iopub.status.busy": "2021-12-03T00:46:45.426584Z",
          "iopub.execute_input": "2021-12-03T00:46:45.427080Z",
          "iopub.status.idle": "2021-12-03T00:46:45.434474Z",
          "shell.execute_reply.started": "2021-12-03T00:46:45.427036Z",
          "shell.execute_reply": "2021-12-03T00:46:45.433575Z"
        },
        "trusted": true,
        "id": "sJ0zK2TqFsGn",
        "outputId": "c3f2704f-42a5-43d3-ccf2-dd3b4ee2770f"
      },
      "source": [
        "no_of_satisfied = np.sum(y_new_train, axis=0)\n",
        "samples = y_new_train.shape[0]\n",
        "print('The percentage of satisfied customers is: {:.2f} %'.format((no_of_satisfied / samples) * 100))\n",
        "print('The percentage of dissatisfied customers is: {:.2f} %'.format((1 - (no_of_satisfied / samples)) * 100))"
      ],
      "execution_count": null,
      "outputs": [
        {
          "name": "stdout",
          "text": "The percentage of satisfied customers is: 43.33 %\nThe percentage of dissatisfied customers is: 56.67 %\n",
          "output_type": "stream"
        }
      ]
    },
    {
      "cell_type": "markdown",
      "metadata": {
        "id": "LS_TMDQwFsGn"
      },
      "source": [
        "### MLP"
      ]
    },
    {
      "cell_type": "code",
      "metadata": {
        "execution": {
          "iopub.status.busy": "2021-12-03T00:46:45.435640Z",
          "iopub.execute_input": "2021-12-03T00:46:45.435919Z",
          "iopub.status.idle": "2021-12-03T00:59:42.958876Z",
          "shell.execute_reply.started": "2021-12-03T00:46:45.435888Z",
          "shell.execute_reply": "2021-12-03T00:59:42.958056Z"
        },
        "trusted": true,
        "id": "Hz3yjRTqFsGn",
        "outputId": "fe279fd0-30be-4031-8312-c0b5ac86c03f"
      },
      "source": [
        "mlp = MLPClassifier(max_iter=5000)\n",
        "mlp_opt_score = 0\n",
        "\n",
        "for i in range(len(steps)):\n",
        "    # Construct the pipe with the specific architecture for this classifier\n",
        "    mySteps = steps[i][:]\n",
        "    mySteps.append(('mlp', mlp))\n",
        "    pipe = Pipeline(steps=mySteps, memory='tmp')\n",
        "    \n",
        "    # Construct a temporary dictionary with only the values needed for this pipe\n",
        "    myDictionary = {\n",
        "        'mlp__activation': ['logistic', 'tanh', 'relu'],\n",
        "        'mlp__alpha': [0.00001, 0.0001, 0.001],\n",
        "        'mlp__learning_rate_init': [0.0001, 0.001, 0.01]\n",
        "    }\n",
        "    for element in mySteps:   \n",
        "        name = element[0]\n",
        "        if name == 'selector':\n",
        "            myDictionary['selector__threshold'] = vthreshold\n",
        "        elif name == 'pca':\n",
        "            myDictionary['pca__n_components'] = n_components\n",
        "        elif name == 'scaler':\n",
        "            myDictionary['scaler__with_mean'] = tf\n",
        "            myDictionary['scaler__with_std'] = tf\n",
        "            \n",
        "    estimator = TuneGridSearchCV(\n",
        "        pipe, \n",
        "        myDictionary, \n",
        "        early_stopping=True,\n",
        "        max_iters=20,\n",
        "        scoring='accuracy', \n",
        "        cv=5 \n",
        "    )\n",
        "    \n",
        "    # Find the optimal model for this pipeline architecture\n",
        "    start_time = time.time()\n",
        "    estimator.fit(X_new_train, y_new_train)\n",
        "    end_time = time.time()\n",
        "    \n",
        "    duration = math.ceil(end_time - start_time)\n",
        "    print('Pipeline architecture {} finished after {} min {} sec'.format(i+1, duration//60, duration%60))\n",
        "    \n",
        "    if estimator.best_score_ > mlp_opt_score:\n",
        "        mlp_opt_estimator = estimator.best_estimator_\n",
        "        mlp_opt_score = estimator.best_score_\n",
        "        \n",
        "print('Optimal MLP estimator is:\\n{}'.format(mlp_opt_estimator))\n",
        "print('with score: {:.2f} %'.format(mlp_opt_score * 100))"
      ],
      "execution_count": null,
      "outputs": [
        {
          "output_type": "display_data",
          "data": {
            "text/plain": "<IPython.core.display.HTML object>",
            "text/html": "<style type='text/css'>\n.datatable table.frame { margin-bottom: 0; }\n.datatable table.frame thead { border-bottom: none; }\n.datatable table.frame tr.coltypes td {  color: #FFFFFF;  line-height: 6px;  padding: 0 0.5em;}\n.datatable .bool    { background: #DDDD99; }\n.datatable .object  { background: #565656; }\n.datatable .int     { background: #5D9E5D; }\n.datatable .float   { background: #4040CC; }\n.datatable .str     { background: #CC4040; }\n.datatable .time    { background: #40CC40; }\n.datatable .row_index {  background: var(--jp-border-color3);  border-right: 1px solid var(--jp-border-color0);  color: var(--jp-ui-font-color3);  font-size: 9px;}\n.datatable .frame tbody td { text-align: left; }\n.datatable .frame tr.coltypes .row_index {  background: var(--jp-border-color0);}\n.datatable th:nth-child(2) { padding-left: 12px; }\n.datatable .hellipsis {  color: var(--jp-cell-editor-border-color);}\n.datatable .vellipsis {  background: var(--jp-layout-color0);  color: var(--jp-cell-editor-border-color);}\n.datatable .na {  color: var(--jp-cell-editor-border-color);  font-size: 80%;}\n.datatable .sp {  opacity: 0.25;}\n.datatable .footer { font-size: 9px; }\n.datatable .frame_dimensions {  background: var(--jp-border-color3);  border-top: 1px solid var(--jp-border-color0);  color: var(--jp-ui-font-color3);  display: inline-block;  opacity: 0.6;  padding: 1px 10px 1px 5px;}\n.datatable .frame thead tr.colnames {  background-image: url('data:image/png;base64,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');  background-repeat: repeat-x;  background-size: 14px;  height: 28px;}\n</style>\n"
          },
          "metadata": {}
        },
        {
          "name": "stdout",
          "text": "Pipeline architecture 1 finished after 0 min 24 sec\nPipeline architecture 2 finished after 0 min 45 sec\nPipeline architecture 3 finished after 0 min 47 sec\nPipeline architecture 4 finished after 0 min 47 sec\nPipeline architecture 5 finished after 1 min 42 sec\nPipeline architecture 6 finished after 1 min 36 sec\nPipeline architecture 7 finished after 2 min 3 sec\nPipeline architecture 8 finished after 4 min 58 sec\nOptimal MLP estimator is:\nPipeline(memory='tmp',\n         steps=[('selector', VarianceThreshold(threshold=0)),\n                ('scaler', StandardScaler()),\n                ('mlp',\n                 MLPClassifier(alpha=1e-05, learning_rate_init=0.01,\n                               max_iter=5000))])\nwith score: 93.09 %\n",
          "output_type": "stream"
        }
      ]
    },
    {
      "cell_type": "markdown",
      "metadata": {
        "id": "dpXYaf2iFsGo"
      },
      "source": [
        "### SVM"
      ]
    },
    {
      "cell_type": "code",
      "metadata": {
        "execution": {
          "iopub.status.busy": "2021-12-03T00:59:42.960577Z",
          "iopub.execute_input": "2021-12-03T00:59:42.960789Z",
          "iopub.status.idle": "2021-12-03T01:24:15.753324Z",
          "shell.execute_reply.started": "2021-12-03T00:59:42.960764Z",
          "shell.execute_reply": "2021-12-03T01:24:15.752581Z"
        },
        "trusted": true,
        "id": "NcmmWHMVFsGo",
        "outputId": "21732a06-5f11-474f-9201-10e3cff4998b"
      },
      "source": [
        "svm = SVC()\n",
        "svm_opt_score = 0\n",
        "\n",
        "for i in range(len(steps)):\n",
        "    # Construct the pipe with the specific architecture for this classifier\n",
        "    mySteps = steps[i][:]\n",
        "    mySteps.append(('svm', svm))\n",
        "    pipe = Pipeline(steps=mySteps, memory='tmp')\n",
        "    \n",
        "    # Construct a temporary dictionary with only the values needed for this pipe\n",
        "    myDictionary = {\n",
        "        'svm__C': [0.1, 1, 10],\n",
        "#         'svm__kernel': ['poly', 'rbf', 'sigmoid'],\n",
        "        'svm__kernel': ['rbf', 'sigmoid'],\n",
        "        'svm__gamma': ['scale', 'auto']\n",
        "    }\n",
        "    for element in mySteps:   \n",
        "        name = element[0]\n",
        "        if name == 'selector':\n",
        "            myDictionary['selector__threshold'] = vthreshold\n",
        "        elif name == 'pca':\n",
        "            myDictionary['pca__n_components'] = n_components\n",
        "        elif name == 'scaler':\n",
        "            myDictionary['scaler__with_mean'] = tf\n",
        "            myDictionary['scaler__with_std'] = tf\n",
        "            \n",
        "    estimator = TuneGridSearchCV(\n",
        "        pipe, \n",
        "        myDictionary, \n",
        "        max_iters=20,\n",
        "        scoring='accuracy',\n",
        "        cv=5\n",
        "    )\n",
        "    \n",
        "    # Find the optimal model for this pipeline architecture\n",
        "    start_time = time.time()\n",
        "    estimator.fit(X_new_train, y_new_train)\n",
        "    end_time = time.time()\n",
        "    \n",
        "    duration = math.ceil(end_time - start_time)\n",
        "    print('Pipeline architecture {} finished after {} min {} sec'.format(i+1, duration//60, duration%60))\n",
        "    \n",
        "    if estimator.best_score_ > svm_opt_score:\n",
        "        svm_opt_estimator = estimator.best_estimator_\n",
        "        svm_opt_score = estimator.best_score_\n",
        "        \n",
        "print('Optimal SVM estimator is:\\n{}'.format(svm_opt_estimator))\n",
        "print('with score: {:.2f} %'.format(svm_opt_score * 100))"
      ],
      "execution_count": null,
      "outputs": [
        {
          "name": "stdout",
          "text": "Pipeline architecture 1 finished after 0 min 36 sec\nPipeline architecture 2 finished after 1 min 20 sec\nPipeline architecture 3 finished after 1 min 31 sec\nPipeline architecture 4 finished after 1 min 8 sec\nPipeline architecture 5 finished after 4 min 11 sec\nPipeline architecture 6 finished after 3 min 3 sec\nPipeline architecture 7 finished after 3 min 12 sec\nPipeline architecture 8 finished after 9 min 35 sec\nOptimal SVM estimator is:\nPipeline(memory='tmp',\n         steps=[('scaler', StandardScaler(with_mean=False)),\n                ('svm', SVC(C=10))])\nwith score: 93.30 %\n",
          "output_type": "stream"
        }
      ]
    },
    {
      "cell_type": "markdown",
      "metadata": {
        "id": "51UZrt1lFsGp"
      },
      "source": [
        "Finally, we try our final 2 best estimators (one for each classifier type) at our test set (after training on the entire training dataset), measure the time needed to fit and predict, and see how they do."
      ]
    },
    {
      "cell_type": "code",
      "metadata": {
        "execution": {
          "iopub.status.busy": "2021-12-03T02:13:28.662113Z",
          "iopub.execute_input": "2021-12-03T02:13:28.662731Z",
          "iopub.status.idle": "2021-12-03T02:14:34.239367Z",
          "shell.execute_reply.started": "2021-12-03T02:13:28.662692Z",
          "shell.execute_reply": "2021-12-03T02:14:34.238488Z"
        },
        "trusted": true,
        "id": "cGeyy6dPFsGp",
        "outputId": "3fcd7c56-359a-4789-af60-ce455f1ada72"
      },
      "source": [
        "# Optimal MLP estimator\n",
        "fit_start = time.time()\n",
        "mlp_opt_estimator.fit(X_train, y_train)\n",
        "fit_end = time.time()\n",
        "\n",
        "predict_start = time.time()\n",
        "mlp_preds = mlp_opt_estimator.predict(X_test)\n",
        "predict_end = time.time()\n",
        "\n",
        "mlp_fit_time = math.ceil(fit_end - fit_start)\n",
        "mlp_predict_time = math.ceil(predict_end - predict_start)\n",
        "mlp_score = accuracy_score(y_test, mlp_preds) * 100\n",
        "\n",
        "print('Optimal MLP estimator')\n",
        "print('Fit time: {} min {} sec'.format(mlp_fit_time // 60, mlp_fit_time % 60))\n",
        "print('Predict time: {} min {} sec'.format(mlp_predict_time // 60, mlp_predict_time % 60))\n",
        "print('Total time: {} min {} sec'.format((mlp_fit_time + mlp_predict_time) // 60, (mlp_fit_time + mlp_predict_time) % 60))\n",
        "print('Accuracy: {:.2f} %\\n'.format(mlp_score))"
      ],
      "execution_count": null,
      "outputs": [
        {
          "name": "stdout",
          "text": "Optimal MLP estimator\nFit time: 1 min 6 sec\nPredict time: 0 min 1 sec\nTotal time: 1 min 7 sec\nAccuracy: 95.93 %\n\n",
          "output_type": "stream"
        }
      ]
    },
    {
      "cell_type": "code",
      "metadata": {
        "execution": {
          "iopub.status.busy": "2021-12-03T02:15:06.520489Z",
          "iopub.execute_input": "2021-12-03T02:15:06.521274Z",
          "iopub.status.idle": "2021-12-03T02:20:42.743737Z",
          "shell.execute_reply.started": "2021-12-03T02:15:06.521225Z",
          "shell.execute_reply": "2021-12-03T02:20:42.743165Z"
        },
        "trusted": true,
        "id": "4oBe2r6JFsGq",
        "outputId": "2113ea3a-b18d-4003-9655-01ecda6479ac"
      },
      "source": [
        "# Optimal SVM estimator\n",
        "fit_start = time.time()\n",
        "svm_opt_estimator.fit(X_train, y_train)\n",
        "fit_end = time.time()\n",
        "\n",
        "predict_start = time.time()\n",
        "svm_preds = svm_opt_estimator.predict(X_test)\n",
        "predict_end = time.time()\n",
        "\n",
        "svm_fit_time = math.ceil(fit_end - fit_start)\n",
        "svm_predict_time = math.ceil(predict_end - predict_start)\n",
        "svm_score = accuracy_score(y_test, svm_preds) * 100\n",
        "\n",
        "print('Optimal SVM estimator')\n",
        "print('Fit time: {} min {} sec'.format(svm_fit_time // 60, svm_fit_time % 60))\n",
        "print('Predict time: {} min {} sec'.format(svm_predict_time // 60, svm_predict_time % 60))\n",
        "print('Total time: {} min {} sec'.format((svm_fit_time + svm_predict_time) // 60, (svm_fit_time + svm_predict_time) % 60))\n",
        "print('Accuracy: {:.2f} %'.format(svm_score))"
      ],
      "execution_count": null,
      "outputs": [
        {
          "name": "stdout",
          "text": "Optimal SVM estimator\nFit time: 5 min 18 sec\nPredict time: 0 min 19 sec\nTotal time: 5 min 37 sec\nAccuracy: 95.76 %\n",
          "output_type": "stream"
        }
      ]
    },
    {
      "cell_type": "code",
      "metadata": {
        "execution": {
          "iopub.status.busy": "2021-12-03T02:21:01.141150Z",
          "iopub.execute_input": "2021-12-03T02:21:01.141683Z",
          "iopub.status.idle": "2021-12-03T02:21:01.263372Z",
          "shell.execute_reply.started": "2021-12-03T02:21:01.141649Z",
          "shell.execute_reply": "2021-12-03T02:21:01.262784Z"
        },
        "trusted": true,
        "id": "_DEV6Bf_FsGq",
        "outputId": "ccd5b75c-afd2-4ea7-c7af-1a14b3b054da"
      },
      "source": [
        "x = ['Dummy', 'MLP', 'SVM']\n",
        "x_axis = np.arange(len(x))\n",
        "plt.figure(figsize=(10, 5))\n",
        "# plt.figure()\n",
        "\n",
        "plt.bar(x_axis+0.15, [0, mlp_score, svm_score], 0.3, label='Optimized')\n",
        "plt.bar(x_axis-0.15, out_of_the_box_results, 0.3, label='Out-of-the-box')\n",
        "plt.xticks(x_axis, x)\n",
        "plt.xlabel('Classifiers')\n",
        "plt.ylabel('Accuracy')\n",
        "plt.title('Final Results')\n",
        "plt.show()"
      ],
      "execution_count": null,
      "outputs": [
        {
          "output_type": "display_data",
          "data": {
            "text/plain": "<Figure size 720x360 with 1 Axes>",
            "image/png": "[encoded data removed]"
          },
          "metadata": {
            "needs_background": "light"
          }
        }
      ]
    },
    {
      "cell_type": "markdown",
      "metadata": {
        "id": "ZCDsFDCXFsGr"
      },
      "source": [
        "We can see that both our optimized MLP and SVM models have about the same accuracy score ~96%. The total time that the optimized MLP model needed was 1 min and 7 sec vs 5 min and 37 sec of the optimized SVM model. Also, the out-of-the-box MLP model gave an accuracy of 93.36%, which is also very good and only took 41 seconds.\n",
        "\n",
        "However, all the above times are very small and would not make a difference for us. Therefore, we can choose whichever of the 2 optimized classifiers we prefer. Let's say:\n",
        "\n",
        "Pipeline(memory='tmp',\n",
        "         steps=[('selector', VarianceThreshold(threshold=0)),\n",
        "                ('scaler', StandardScaler()),\n",
        "                ('mlp',\n",
        "                 MLPClassifier(alpha=1e-05, learning_rate_init=0.01,\n",
        "                               max_iter=5000))])"
      ]
    },
    {
      "cell_type": "code",
      "metadata": {
        "execution": {
          "iopub.status.busy": "2021-12-03T02:21:05.084056Z",
          "iopub.execute_input": "2021-12-03T02:21:05.084812Z",
          "iopub.status.idle": "2021-12-03T02:21:05.091446Z",
          "shell.execute_reply.started": "2021-12-03T02:21:05.084777Z",
          "shell.execute_reply": "2021-12-03T02:21:05.090645Z"
        },
        "trusted": true,
        "id": "-Oy_hxNyFsGr"
      },
      "source": [
        "from sklearn.metrics import confusion_matrix\n",
        "import seaborn as sns\n",
        "\n",
        "# Heatmap Visualization Parameters\n",
        "def visualize_confusion_matrix(conf):\n",
        "    group_names = ['Correctly satisfied', 'Predicted satisfied while not', 'Predicted dissatisfied while not', 'Correctly dissatisfied']\n",
        "    group_counts = [value for value in conf.flatten()]\n",
        "    group_percentages = ['{0:.2%}'.format(value) for value in conf.flatten() / np.sum(conf)]\n",
        "\n",
        "    labels = [f'{v1}\\n{v2}\\n{v3}' for v1, v2, v3 in\n",
        "            zip(group_names, group_counts, group_percentages)]\n",
        "    labels = np.asarray(labels).reshape(2, 2)\n",
        "\n",
        "    sns.heatmap(conf, annot=labels, fmt='', cmap='Blues')"
      ],
      "execution_count": null,
      "outputs": []
    },
    {
      "cell_type": "code",
      "metadata": {
        "execution": {
          "iopub.status.busy": "2021-12-03T02:21:16.256327Z",
          "iopub.execute_input": "2021-12-03T02:21:16.257297Z",
          "iopub.status.idle": "2021-12-03T02:21:16.533158Z",
          "shell.execute_reply.started": "2021-12-03T02:21:16.257259Z",
          "shell.execute_reply": "2021-12-03T02:21:16.532357Z"
        },
        "trusted": true,
        "id": "OcNVP6CHFsGr",
        "outputId": "813c730d-5b71-48a7-c629-19af3102dab0"
      },
      "source": [
        "mlp_opt_conf = confusion_matrix(y_test, mlp_preds)\n",
        "visualize_confusion_matrix(mlp_opt_conf)"
      ],
      "execution_count": null,
      "outputs": [
        {
          "output_type": "display_data",
          "data": {
            "text/plain": "<Figure size 432x288 with 2 Axes>",
            "image/png": "[encoded data removed]"
          },
          "metadata": {
            "needs_background": "light"
          }
        }
      ]
    },
    {
      "cell_type": "code",
      "metadata": {
        "execution": {
          "iopub.status.busy": "2021-12-03T02:21:23.167571Z",
          "iopub.execute_input": "2021-12-03T02:21:23.167843Z",
          "iopub.status.idle": "2021-12-03T02:21:23.438468Z",
          "shell.execute_reply.started": "2021-12-03T02:21:23.167804Z",
          "shell.execute_reply": "2021-12-03T02:21:23.437644Z"
        },
        "trusted": true,
        "id": "q3ft2Eq0FsGs",
        "outputId": "dcaa81f5-c958-4f8e-e83e-d147147753a2"
      },
      "source": [
        "svm_opt_conf = confusion_matrix(y_test, svm_preds)\n",
        "visualize_confusion_matrix(svm_opt_conf)"
      ],
      "execution_count": null,
      "outputs": [
        {
          "output_type": "display_data",
          "data": {
            "text/plain": "<Figure size 432x288 with 2 Axes>",
            "image/png": "[encoded data removed]"
          },
          "metadata": {
            "needs_background": "light"
          }
        }
      ]
    },
    {
      "cell_type": "markdown",
      "metadata": {
        "id": "K3ysXx7MFsGs"
      },
      "source": [
        "The above confusion matrices allow us to see that the difference in accurate predictions is pretty small either of the optimized classifiers we choose. The optimized MLP classifier predicts 10 more false positives, while the optimized SVM classifier 33 more false negatives. The difference in accuracy percentage however is extremely small."
      ]
    }
  ]
}